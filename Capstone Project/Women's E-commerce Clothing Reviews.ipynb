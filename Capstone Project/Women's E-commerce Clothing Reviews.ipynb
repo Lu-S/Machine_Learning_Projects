{
 "cells": [
  {
   "cell_type": "markdown",
   "metadata": {
    "deletable": true,
    "editable": true
   },
   "source": [
    "https://www.kaggle.com/nicapotato/womens-ecommerce-clothing-reviews/kernels"
   ]
  },
  {
   "cell_type": "markdown",
   "metadata": {
    "deletable": true,
    "editable": true
   },
   "source": [
    "Lu Sun"
   ]
  },
  {
   "cell_type": "markdown",
   "metadata": {
    "deletable": true,
    "editable": true
   },
   "source": [
    "# Data Cleaning"
   ]
  },
  {
   "cell_type": "code",
   "execution_count": 128,
   "metadata": {
    "collapsed": true,
    "deletable": true,
    "editable": true
   },
   "outputs": [],
   "source": [
    "import pandas as pd\n",
    "import numpy as np\n",
    "import seaborn as sns\n",
    "import matplotlib.pyplot as plt\n",
    "%matplotlib inline"
   ]
  },
  {
   "cell_type": "code",
   "execution_count": 129,
   "metadata": {
    "collapsed": false,
    "deletable": true,
    "editable": true
   },
   "outputs": [],
   "source": [
    "df = pd.read_csv(\"Womens Clothing E-Commerce Reviews.csv\",index_col=0)"
   ]
  },
  {
   "cell_type": "markdown",
   "metadata": {
    "deletable": true,
    "editable": true
   },
   "source": [
    "### Data Exploration"
   ]
  },
  {
   "cell_type": "code",
   "execution_count": 5,
   "metadata": {
    "collapsed": false,
    "deletable": true,
    "editable": true,
    "scrolled": true
   },
   "outputs": [
    {
     "data": {
      "text/html": [
       "<div>\n",
       "<style>\n",
       "    .dataframe thead tr:only-child th {\n",
       "        text-align: right;\n",
       "    }\n",
       "\n",
       "    .dataframe thead th {\n",
       "        text-align: left;\n",
       "    }\n",
       "\n",
       "    .dataframe tbody tr th {\n",
       "        vertical-align: top;\n",
       "    }\n",
       "</style>\n",
       "<table border=\"1\" class=\"dataframe\">\n",
       "  <thead>\n",
       "    <tr style=\"text-align: right;\">\n",
       "      <th></th>\n",
       "      <th>Clothing ID</th>\n",
       "      <th>Age</th>\n",
       "      <th>Title</th>\n",
       "      <th>Review Text</th>\n",
       "      <th>Rating</th>\n",
       "      <th>Recommended IND</th>\n",
       "      <th>Positive Feedback Count</th>\n",
       "      <th>Division Name</th>\n",
       "      <th>Department Name</th>\n",
       "      <th>Class Name</th>\n",
       "    </tr>\n",
       "  </thead>\n",
       "  <tbody>\n",
       "    <tr>\n",
       "      <th>0</th>\n",
       "      <td>767</td>\n",
       "      <td>33</td>\n",
       "      <td>NaN</td>\n",
       "      <td>Absolutely wonderful - silky and sexy and comf...</td>\n",
       "      <td>4</td>\n",
       "      <td>1</td>\n",
       "      <td>0</td>\n",
       "      <td>Initmates</td>\n",
       "      <td>Intimate</td>\n",
       "      <td>Intimates</td>\n",
       "    </tr>\n",
       "    <tr>\n",
       "      <th>1</th>\n",
       "      <td>1080</td>\n",
       "      <td>34</td>\n",
       "      <td>NaN</td>\n",
       "      <td>Love this dress!  it's sooo pretty.  i happene...</td>\n",
       "      <td>5</td>\n",
       "      <td>1</td>\n",
       "      <td>4</td>\n",
       "      <td>General</td>\n",
       "      <td>Dresses</td>\n",
       "      <td>Dresses</td>\n",
       "    </tr>\n",
       "    <tr>\n",
       "      <th>2</th>\n",
       "      <td>1077</td>\n",
       "      <td>60</td>\n",
       "      <td>Some major design flaws</td>\n",
       "      <td>I had such high hopes for this dress and reall...</td>\n",
       "      <td>3</td>\n",
       "      <td>0</td>\n",
       "      <td>0</td>\n",
       "      <td>General</td>\n",
       "      <td>Dresses</td>\n",
       "      <td>Dresses</td>\n",
       "    </tr>\n",
       "    <tr>\n",
       "      <th>3</th>\n",
       "      <td>1049</td>\n",
       "      <td>50</td>\n",
       "      <td>My favorite buy!</td>\n",
       "      <td>I love, love, love this jumpsuit. it's fun, fl...</td>\n",
       "      <td>5</td>\n",
       "      <td>1</td>\n",
       "      <td>0</td>\n",
       "      <td>General Petite</td>\n",
       "      <td>Bottoms</td>\n",
       "      <td>Pants</td>\n",
       "    </tr>\n",
       "    <tr>\n",
       "      <th>4</th>\n",
       "      <td>847</td>\n",
       "      <td>47</td>\n",
       "      <td>Flattering shirt</td>\n",
       "      <td>This shirt is very flattering to all due to th...</td>\n",
       "      <td>5</td>\n",
       "      <td>1</td>\n",
       "      <td>6</td>\n",
       "      <td>General</td>\n",
       "      <td>Tops</td>\n",
       "      <td>Blouses</td>\n",
       "    </tr>\n",
       "  </tbody>\n",
       "</table>\n",
       "</div>"
      ],
      "text/plain": [
       "   Clothing ID  Age                    Title  \\\n",
       "0          767   33                      NaN   \n",
       "1         1080   34                      NaN   \n",
       "2         1077   60  Some major design flaws   \n",
       "3         1049   50         My favorite buy!   \n",
       "4          847   47         Flattering shirt   \n",
       "\n",
       "                                         Review Text  Rating  Recommended IND  \\\n",
       "0  Absolutely wonderful - silky and sexy and comf...       4                1   \n",
       "1  Love this dress!  it's sooo pretty.  i happene...       5                1   \n",
       "2  I had such high hopes for this dress and reall...       3                0   \n",
       "3  I love, love, love this jumpsuit. it's fun, fl...       5                1   \n",
       "4  This shirt is very flattering to all due to th...       5                1   \n",
       "\n",
       "   Positive Feedback Count   Division Name Department Name Class Name  \n",
       "0                        0       Initmates        Intimate  Intimates  \n",
       "1                        4         General         Dresses    Dresses  \n",
       "2                        0         General         Dresses    Dresses  \n",
       "3                        0  General Petite         Bottoms      Pants  \n",
       "4                        6         General            Tops    Blouses  "
      ]
     },
     "execution_count": 5,
     "metadata": {},
     "output_type": "execute_result"
    }
   ],
   "source": [
    "df.head()"
   ]
  },
  {
   "cell_type": "code",
   "execution_count": 14,
   "metadata": {
    "collapsed": false,
    "deletable": true,
    "editable": true,
    "scrolled": true
   },
   "outputs": [
    {
     "data": {
      "text/plain": [
       "Text(0,0.5,'Count of Reviews')"
      ]
     },
     "execution_count": 14,
     "metadata": {},
     "output_type": "execute_result"
    },
    {
     "data": {
      "image/png": "[encoded data removed]",
      "text/plain": [
       "<matplotlib.figure.Figure at 0x21fcb52d978>"
      ]
     },
     "metadata": {},
     "output_type": "display_data"
    }
   ],
   "source": [
    "plt.bar(df.groupby('Rating').count().index.values,df.groupby('Rating').count()['Clothing ID'])\n",
    "plt.title('Distribution of Reviews by Ratings')\n",
    "plt.xlabel('Rating')\n",
    "plt.ylabel('Count of Reviews')"
   ]
  },
  {
   "cell_type": "code",
   "execution_count": 131,
   "metadata": {
    "collapsed": false,
    "deletable": true,
    "editable": true
   },
   "outputs": [
    {
     "data": {
      "text/plain": [
       "0.10248658775440687"
      ]
     },
     "execution_count": 131,
     "metadata": {},
     "output_type": "execute_result"
    }
   ],
   "source": [
    "df[(df.Rating==1) | (df.Rating==2)].count()['Clothing ID']/df.count()['Clothing ID']"
   ]
  },
  {
   "cell_type": "code",
   "execution_count": 16,
   "metadata": {
    "collapsed": false,
    "deletable": true,
    "editable": true
   },
   "outputs": [
    {
     "data": {
      "text/plain": [
       "<matplotlib.axes._subplots.AxesSubplot at 0x21fcb5b23c8>"
      ]
     },
     "execution_count": 16,
     "metadata": {},
     "output_type": "execute_result"
    },
    {
     "data": {
      "image/png": "[encoded data removed]",
      "text/plain": [
       "<matplotlib.figure.Figure at 0x21fcb568c88>"
      ]
     },
     "metadata": {},
     "output_type": "display_data"
    }
   ],
   "source": [
    "sns.heatmap(data=df.corr(), annot=True)"
   ]
  },
  {
   "cell_type": "code",
   "execution_count": 36,
   "metadata": {
    "collapsed": false,
    "deletable": true,
    "editable": true
   },
   "outputs": [
    {
     "data": {
      "text/plain": [
       "Text(0.5,1,'Positive Review Percentages by Department')"
      ]
     },
     "execution_count": 36,
     "metadata": {},
     "output_type": "execute_result"
    },
    {
     "data": {
      "image/png": "[encoded data removed]",
      "text/plain": [
       "<matplotlib.figure.Figure at 0x21fcb5fe748>"
      ]
     },
     "metadata": {},
     "output_type": "display_data"
    }
   ],
   "source": [
    "pos_review_by_department = df[(df.Rating==4) | (df.Rating==5)].groupby('Department Name')['Clothing ID'].count()\n",
    "all_review_by_department = df.groupby('Department Name')['Clothing ID'].count()\n",
    "ratios = pos_review_by_department/all_review_by_department\n",
    "plt.bar(ratios.index.values, ratios)\n",
    "plt.title('Positive Review Percentages by Department')"
   ]
  },
  {
   "cell_type": "code",
   "execution_count": 44,
   "metadata": {
    "collapsed": false,
    "deletable": true,
    "editable": true
   },
   "outputs": [
    {
     "data": {
      "text/plain": [
       "Clothing ID                0.000000\n",
       "Age                        0.000000\n",
       "Title                      0.162224\n",
       "Review Text                0.035979\n",
       "Rating                     0.000000\n",
       "Recommended IND            0.000000\n",
       "Positive Feedback Count    0.000000\n",
       "Division Name              0.000596\n",
       "Department Name            0.000596\n",
       "Class Name                 0.000596\n",
       "dtype: float64"
      ]
     },
     "execution_count": 44,
     "metadata": {},
     "output_type": "execute_result"
    }
   ],
   "source": [
    "# Missing Data\n",
    "(len(df)-df.count())/len(df)"
   ]
  },
  {
   "cell_type": "markdown",
   "metadata": {
    "deletable": true,
    "editable": true
   },
   "source": [
    "### Data Processing"
   ]
  },
  {
   "cell_type": "code",
   "execution_count": 70,
   "metadata": {
    "collapsed": false,
    "deletable": true,
    "editable": true
   },
   "outputs": [
    {
     "name": "stderr",
     "output_type": "stream",
     "text": [
      "C:\\Users\\sunlu\\AppData\\Local\\Continuum\\anaconda3\\lib\\site-packages\\ipykernel_launcher.py:9: SettingWithCopyWarning: \n",
      "A value is trying to be set on a copy of a slice from a DataFrame\n",
      "\n",
      "See the caveats in the documentation: http://pandas.pydata.org/pandas-docs/stable/indexing.html#indexing-view-versus-copy\n",
      "  if __name__ == '__main__':\n"
     ]
    }
   ],
   "source": [
    "df=df.dropna(axis=0,how='any')\n",
    "\n",
    "#Ignore all reviews with rating = 3, since they tend to have a neutral sentiment. \n",
    "#Reviews with a rating of 4 or higher will be considered positive\n",
    "#Reviews with rating of 2 or lower will have a negative sentiment.\n",
    "\n",
    "df = df[df['Rating'] != 3]\n",
    "df['Sentiment'] = df['Rating'] >=4\n",
    "df['Sentiment'][df['Sentiment']==True] = 'Positive'\n",
    "df['Sentiment'][df['Sentiment']==False]= 'Negative'\n"
   ]
  },
  {
   "cell_type": "code",
   "execution_count": 46,
   "metadata": {
    "collapsed": false,
    "deletable": true,
    "editable": true
   },
   "outputs": [
    {
     "name": "stdout",
     "output_type": "stream",
     "text": [
      "3    I love, love, love this jumpsuit. it's fun, fl...\n",
      "Name: Review Text, dtype: object\n",
      "i love, love, love this jumpsuit. it's fun, flirty\n",
      "i love love love this jumpsuit it s fun flirty and\n",
      "i love  love  love this jumpsuit  it s fun  flirty\n"
     ]
    }
   ],
   "source": [
    "import nltk\n",
    "from nltk.corpus import stopwords\n",
    "from nltk import word_tokenize\n",
    "import re\n",
    "\n",
    "# Categorize reviews to positive and negative\n",
    "df_pos = df[df['Sentiment']=='Positive']\n",
    "df_neg = df[df['Sentiment']=='Negative']\n",
    "print(df_pos['Review Text'].head(1))\n",
    "\n",
    "# Convert review text to strings\n",
    "a_pos = df_pos['Review Text'].str.lower().str.cat(sep=' ')\n",
    "a_neg = df_neg['Review Text'].str.lower().str.cat(sep=' ')\n",
    "print(a_pos[:50])\n",
    "\n",
    "# removes punctuation,numbers and returns list of words\n",
    "b_pos = re.sub('[^A-Za-z]+', ' ', a_pos)\n",
    "b_pos2 = re.sub('[^A-Za-z]', ' ', a_pos)\n",
    "b_neg = re.sub('[^A-Za-z]+', ' ', a_neg)\n",
    "print(b_pos[:50])\n",
    "print(b_pos2[:50])"
   ]
  },
  {
   "cell_type": "code",
   "execution_count": 127,
   "metadata": {
    "collapsed": false,
    "deletable": true,
    "editable": true
   },
   "outputs": [
    {
     "data": {
      "text/plain": [
       "Text(0,0.5,'Count or Reviews')"
      ]
     },
     "execution_count": 127,
     "metadata": {},
     "output_type": "execute_result"
    },
    {
     "data": {
      "image/png": "[encoded data removed]",
      "text/plain": [
       "<matplotlib.figure.Figure at 0x21fd4191668>"
      ]
     },
     "metadata": {},
     "output_type": "display_data"
    }
   ],
   "source": [
    "plt.bar(df.groupby('Sentiment').count().index.values,df.groupby('Sentiment').count()['Clothing ID'])\n",
    "plt.title('Distribution of Sentiments')\n",
    "plt.xlabel('Sentiment')\n",
    "plt.ylabel('Count or Reviews')"
   ]
  },
  {
   "cell_type": "code",
   "execution_count": 125,
   "metadata": {
    "collapsed": false,
    "deletable": true,
    "editable": true
   },
   "outputs": [
    {
     "data": {
      "text/html": [
       "<div>\n",
       "<style>\n",
       "    .dataframe thead tr:only-child th {\n",
       "        text-align: right;\n",
       "    }\n",
       "\n",
       "    .dataframe thead th {\n",
       "        text-align: left;\n",
       "    }\n",
       "\n",
       "    .dataframe tbody tr th {\n",
       "        vertical-align: top;\n",
       "    }\n",
       "</style>\n",
       "<table border=\"1\" class=\"dataframe\">\n",
       "  <thead>\n",
       "    <tr style=\"text-align: right;\">\n",
       "      <th></th>\n",
       "      <th>Clothing ID</th>\n",
       "      <th>Age</th>\n",
       "      <th>Title</th>\n",
       "      <th>Review Text</th>\n",
       "      <th>Rating</th>\n",
       "      <th>Recommended IND</th>\n",
       "      <th>Positive Feedback Count</th>\n",
       "      <th>Division Name</th>\n",
       "      <th>Department Name</th>\n",
       "      <th>Class Name</th>\n",
       "    </tr>\n",
       "    <tr>\n",
       "      <th>Sentiment</th>\n",
       "      <th></th>\n",
       "      <th></th>\n",
       "      <th></th>\n",
       "      <th></th>\n",
       "      <th></th>\n",
       "      <th></th>\n",
       "      <th></th>\n",
       "      <th></th>\n",
       "      <th></th>\n",
       "      <th></th>\n",
       "    </tr>\n",
       "  </thead>\n",
       "  <tbody>\n",
       "    <tr>\n",
       "      <th>Negative</th>\n",
       "      <td>2051</td>\n",
       "      <td>2051</td>\n",
       "      <td>2051</td>\n",
       "      <td>2051</td>\n",
       "      <td>2051</td>\n",
       "      <td>2051</td>\n",
       "      <td>2051</td>\n",
       "      <td>2051</td>\n",
       "      <td>2051</td>\n",
       "      <td>2051</td>\n",
       "    </tr>\n",
       "    <tr>\n",
       "      <th>Positive</th>\n",
       "      <td>15147</td>\n",
       "      <td>15147</td>\n",
       "      <td>15147</td>\n",
       "      <td>15147</td>\n",
       "      <td>15147</td>\n",
       "      <td>15147</td>\n",
       "      <td>15147</td>\n",
       "      <td>15147</td>\n",
       "      <td>15147</td>\n",
       "      <td>15147</td>\n",
       "    </tr>\n",
       "  </tbody>\n",
       "</table>\n",
       "</div>"
      ],
      "text/plain": [
       "           Clothing ID    Age  Title  Review Text  Rating  Recommended IND  \\\n",
       "Sentiment                                                                    \n",
       "Negative          2051   2051   2051         2051    2051             2051   \n",
       "Positive         15147  15147  15147        15147   15147            15147   \n",
       "\n",
       "           Positive Feedback Count  Division Name  Department Name  Class Name  \n",
       "Sentiment                                                                       \n",
       "Negative                      2051           2051             2051        2051  \n",
       "Positive                     15147          15147            15147       15147  "
      ]
     },
     "execution_count": 125,
     "metadata": {},
     "output_type": "execute_result"
    }
   ],
   "source": [
    "df.groupby('Sentiment').count()"
   ]
  },
  {
   "cell_type": "code",
   "execution_count": null,
   "metadata": {
    "collapsed": true,
    "deletable": true,
    "editable": true
   },
   "outputs": [],
   "source": [
    "# only need to run once\n",
    "# import nltk\n",
    "# nltk.download('stopwords')"
   ]
  },
  {
   "cell_type": "code",
   "execution_count": 47,
   "metadata": {
    "collapsed": false,
    "deletable": true,
    "editable": true
   },
   "outputs": [
    {
     "name": "stdout",
     "output_type": "stream",
     "text": [
      "['i', 'love', 'love', 'love', 'this', 'jumpsuit', 'it', 's', 'fun', 'flirty', 'and', 'fabulous', 'every', 'time', 'i', 'wear', 'it', 'i', 'get', 'nothing']\n",
      "    Sentiment     Words\n",
      "0           1         i\n",
      "1           1      love\n",
      "2           1      love\n",
      "3           1      love\n",
      "4           1      this\n",
      "5           1  jumpsuit\n",
      "6           1        it\n",
      "7           1         s\n",
      "8           1       fun\n",
      "9           1    flirty\n",
      "10          1       and\n",
      "11          1  fabulous\n",
      "12          1     every\n",
      "13          1      time\n",
      "14          1         i\n",
      "15          1      wear\n",
      "16          1        it\n",
      "17          1         i\n",
      "18          1       get\n",
      "19          1   nothing\n"
     ]
    }
   ],
   "source": [
    "# Tokenize words\n",
    "tokens_pos = nltk.tokenize.word_tokenize(b_pos)\n",
    "tokens_neg = nltk.tokenize.word_tokenize(b_neg)\n",
    "\n",
    "print(tokens_pos[:20])\n",
    "\n",
    "df_tokens_pos = pd.DataFrame({'Words':tokens_pos, 'Sentiment':1})\n",
    "print(df_tokens_pos.head(20))\n",
    "df_tokens_neg = pd.DataFrame({'Words':tokens_neg, 'Sentiment':0})\n",
    "df_tokens = [df_tokens_pos, df_tokens_neg]\n",
    "df_tokens = pd.concat(df_tokens)"
   ]
  },
  {
   "cell_type": "code",
   "execution_count": 48,
   "metadata": {
    "collapsed": false,
    "deletable": true,
    "editable": true
   },
   "outputs": [
    {
     "name": "stdout",
     "output_type": "stream",
     "text": [
      "['i', 'me', 'my', 'myself', 'we', 'our', 'ours', 'ourselves', 'you', \"you're\", \"you've\", \"you'll\", \"you'd\", 'your', 'yours', 'yourself', 'yourselves', 'he', 'him', 'his', 'himself', 'she', \"she's\", 'her', 'hers', 'herself', 'it', \"it's\", 'its', 'itself', 'they', 'them', 'their', 'theirs', 'themselves', 'what', 'which', 'who', 'whom', 'this', 'that', \"that'll\", 'these', 'those', 'am', 'is', 'are', 'was', 'were', 'be']\n"
     ]
    }
   ],
   "source": [
    "#remove all the stopwords from the text\n",
    "# nltk.download('punkt')  # only need to run once\n",
    "stop_words = list(stopwords.words('english')) \n",
    "words = df_tokens[~df_tokens['Words'].isin(stop_words)]\n",
    "\n",
    "print(stop_words[:50])"
   ]
  },
  {
   "cell_type": "code",
   "execution_count": 49,
   "metadata": {
    "collapsed": true,
    "deletable": true,
    "editable": true
   },
   "outputs": [],
   "source": [
    "# Remove single characters and numbers\n",
    "words_cleaned = words[words['Words'].str.len()>2]\n",
    "words_cleaned = words_cleaned[~words_cleaned['Words'].str.isnumeric()]"
   ]
  },
  {
   "cell_type": "markdown",
   "metadata": {
    "deletable": true,
    "editable": true
   },
   "source": [
    "# Feature Selection & Model Training"
   ]
  },
  {
   "cell_type": "markdown",
   "metadata": {
    "deletable": true,
    "editable": true
   },
   "source": [
    "Select Model Features"
   ]
  },
  {
   "cell_type": "code",
   "execution_count": 50,
   "metadata": {
    "collapsed": false,
    "deletable": true,
    "editable": true
   },
   "outputs": [
    {
     "data": {
      "text/plain": [
       "FreqDist({'love': 6671,\n",
       "          'jumpsuit': 171,\n",
       "          'fun': 588,\n",
       "          'flirty': 57,\n",
       "          'fabulous': 134,\n",
       "          'every': 455,\n",
       "          'time': 780,\n",
       "          'wear': 4818,\n",
       "          'get': 1304,\n",
       "          'nothing': 146,\n",
       "          'great': 4701,\n",
       "          'compliments': 846,\n",
       "          'shirt': 1716,\n",
       "          'flattering': 2609,\n",
       "          'due': 229,\n",
       "          'adjustable': 69,\n",
       "          'front': 840,\n",
       "          'tie': 272,\n",
       "          'perfect': 3113,\n",
       "          'length': 1996,\n",
       "          'leggings': 609,\n",
       "          'sleeveless': 63,\n",
       "          'pairs': 113,\n",
       "          'well': 2460,\n",
       "          'cardigan': 348,\n",
       "          'aded': 1,\n",
       "          'basket': 12,\n",
       "          'hte': 62,\n",
       "          'last': 260,\n",
       "          'mintue': 1,\n",
       "          'see': 1171,\n",
       "          'would': 3023,\n",
       "          'look': 2534,\n",
       "          'like': 4412,\n",
       "          'person': 861,\n",
       "          'store': 1496,\n",
       "          'pick': 53,\n",
       "          'went': 694,\n",
       "          'teh': 15,\n",
       "          'darkler': 1,\n",
       "          'color': 3225,\n",
       "          'pale': 88,\n",
       "          'really': 2520,\n",
       "          'gorgeous': 766,\n",
       "          'turns': 23,\n",
       "          'mathced': 1,\n",
       "          'everythiing': 1,\n",
       "          'trying': 241,\n",
       "          'prefectly': 2,\n",
       "          'little': 2870,\n",
       "          'baggy': 179,\n",
       "          'msallet': 1,\n",
       "          'size': 6346,\n",
       "          'bummer': 23,\n",
       "          'petite': 1769,\n",
       "          'decided': 410,\n",
       "          'jkeep': 1,\n",
       "          'though': 893,\n",
       "          'said': 415,\n",
       "          'matvehd': 1,\n",
       "          'everything': 421,\n",
       "          'ejans': 2,\n",
       "          'pants': 1413,\n",
       "          'skirts': 203,\n",
       "          'waas': 1,\n",
       "          'kept': 184,\n",
       "          'oops': 2,\n",
       "          'ordered': 2457,\n",
       "          'carbon': 13,\n",
       "          'ton': 58,\n",
       "          'stuff': 22,\n",
       "          'always': 457,\n",
       "          'try': 766,\n",
       "          'used': 149,\n",
       "          'top': 4789,\n",
       "          'pair': 727,\n",
       "          'nice': 2186,\n",
       "          'charcoal': 40,\n",
       "          'shimmer': 35,\n",
       "          'pencil': 101,\n",
       "          'flare': 200,\n",
       "          'etc': 97,\n",
       "          'compaint': 1,\n",
       "          'bit': 2175,\n",
       "          'big': 1110,\n",
       "          'sleeves': 1103,\n",
       "          'long': 1785,\n",
       "          'also': 1590,\n",
       "          'loose': 808,\n",
       "          'xxs': 281,\n",
       "          'wil': 9,\n",
       "          'ldecide': 1,\n",
       "          'later': 70,\n",
       "          'since': 634,\n",
       "          'light': 856,\n",
       "          'already': 241,\n",
       "          'sold': 295,\n",
       "          'smallest': 26,\n",
       "          'dress': 7116,\n",
       "          'usually': 1448,\n",
       "          'runs': 1102,\n",
       "          'snug': 385,\n",
       "          'bust': 601,\n",
       "          'feminine': 399,\n",
       "          'usual': 647,\n",
       "          'retailer': 1483,\n",
       "          'flair': 56,\n",
       "          'style': 1123,\n",
       "          'lbs': 1370,\n",
       "          'make': 745,\n",
       "          'sure': 635,\n",
       "          'typically': 309,\n",
       "          'regular': 882,\n",
       "          'dresses': 642,\n",
       "          'less': 188,\n",
       "          'busty': 183,\n",
       "          'cup': 75,\n",
       "          'smaller': 384,\n",
       "          'fit': 5076,\n",
       "          'perfectly': 1201,\n",
       "          'tight': 894,\n",
       "          'could': 1175,\n",
       "          'party': 121,\n",
       "          'work': 1364,\n",
       "          'tulle': 25,\n",
       "          'longer': 595,\n",
       "          'fabric': 2942,\n",
       "          'underneath': 544,\n",
       "          'find': 723,\n",
       "          'reliant': 1,\n",
       "          'reviews': 575,\n",
       "          'written': 11,\n",
       "          'savvy': 3,\n",
       "          'shoppers': 4,\n",
       "          'past': 85,\n",
       "          'right': 1182,\n",
       "          'estimation': 1,\n",
       "          'product': 77,\n",
       "          'case': 130,\n",
       "          'reveiws': 1,\n",
       "          'doubt': 31,\n",
       "          'even': 1306,\n",
       "          'tried': 1365,\n",
       "          'beautifully': 360,\n",
       "          'made': 1137,\n",
       "          'lined': 306,\n",
       "          'reminiscent': 7,\n",
       "          'old': 104,\n",
       "          'quality': 1394,\n",
       "          'solid': 98,\n",
       "          'periwinkle': 12,\n",
       "          'colored': 143,\n",
       "          'matches': 42,\n",
       "          'outer': 40,\n",
       "          'print': 643,\n",
       "          'tts': 461,\n",
       "          'form': 169,\n",
       "          'fitting': 345,\n",
       "          'falls': 186,\n",
       "          'knee': 365,\n",
       "          'rid': 6,\n",
       "          'bought': 2310,\n",
       "          'black': 1383,\n",
       "          'larkspur': 2,\n",
       "          'midi': 53,\n",
       "          'bother': 56,\n",
       "          'lining': 286,\n",
       "          'skirt': 1429,\n",
       "          'portion': 72,\n",
       "          'grrrrrrrrrrr': 1,\n",
       "          'stats': 16,\n",
       "          'smoothly': 3,\n",
       "          'around': 726,\n",
       "          'chest': 634,\n",
       "          'flowy': 476,\n",
       "          'lower': 170,\n",
       "          'half': 114,\n",
       "          'say': 523,\n",
       "          'running': 114,\n",
       "          'straps': 250,\n",
       "          'pretty': 1423,\n",
       "          'easily': 387,\n",
       "          'nightwear': 1,\n",
       "          'came': 316,\n",
       "          'knees': 163,\n",
       "          'took': 331,\n",
       "          'package': 48,\n",
       "          'wanted': 454,\n",
       "          'badly': 13,\n",
       "          'tell': 126,\n",
       "          'put': 361,\n",
       "          'hour': 38,\n",
       "          'glass': 12,\n",
       "          'figure': 335,\n",
       "          'straight': 172,\n",
       "          'waist': 1580,\n",
       "          'way': 966,\n",
       "          'small': 3121,\n",
       "          'body': 745,\n",
       "          'shape': 653,\n",
       "          'sized': 367,\n",
       "          'still': 1220,\n",
       "          'roomy': 224,\n",
       "          'hips': 562,\n",
       "          'sturdy': 61,\n",
       "          'linen': 170,\n",
       "          'hope': 167,\n",
       "          'someone': 181,\n",
       "          'happy': 583,\n",
       "          'chance': 102,\n",
       "          'blouse': 667,\n",
       "          'glad': 507,\n",
       "          'crazy': 61,\n",
       "          'photographed': 8,\n",
       "          'model': 781,\n",
       "          'paired': 237,\n",
       "          'whit': 2,\n",
       "          'white': 1101,\n",
       "          'worked': 182,\n",
       "          'crisp': 44,\n",
       "          'clean': 82,\n",
       "          'describe': 22,\n",
       "          'launders': 4,\n",
       "          'fits': 2306,\n",
       "          'drape': 197,\n",
       "          'tucked': 107,\n",
       "          'wrong': 106,\n",
       "          'super': 1239,\n",
       "          'cozy': 265,\n",
       "          'coat': 331,\n",
       "          'cold': 158,\n",
       "          'dry': 180,\n",
       "          'days': 279,\n",
       "          'good': 1278,\n",
       "          'jeans': 1925,\n",
       "          'dressier': 61,\n",
       "          'outfit': 173,\n",
       "          'feel': 1073,\n",
       "          'looking': 743,\n",
       "          'something': 419,\n",
       "          'different': 581,\n",
       "          'new': 292,\n",
       "          'year': 326,\n",
       "          'eve': 10,\n",
       "          'chested': 102,\n",
       "          'steamed': 7,\n",
       "          'xsp': 74,\n",
       "          'tailor': 50,\n",
       "          'simple': 231,\n",
       "          'fix': 57,\n",
       "          'nicely': 622,\n",
       "          'pregnant': 74,\n",
       "          'bough': 7,\n",
       "          'medium': 1652,\n",
       "          'grow': 11,\n",
       "          'back': 1825,\n",
       "          'provides': 29,\n",
       "          'flexibility': 7,\n",
       "          'upset': 6,\n",
       "          'price': 792,\n",
       "          'thought': 581,\n",
       "          'embroidered': 76,\n",
       "          'think': 1543,\n",
       "          'cried': 1,\n",
       "          'opened': 31,\n",
       "          'box': 27,\n",
       "          'ver': 4,\n",
       "          'true': 1334,\n",
       "          'tad': 247,\n",
       "          'tiny': 186,\n",
       "          'away': 211,\n",
       "          'vibrant': 219,\n",
       "          'unique': 580,\n",
       "          'poofy': 16,\n",
       "          'keep': 515,\n",
       "          'going': 624,\n",
       "          'forth': 13,\n",
       "          'mainly': 23,\n",
       "          'although': 296,\n",
       "          'definitely': 970,\n",
       "          'except': 113,\n",
       "          'wish': 655,\n",
       "          'emb': 2,\n",
       "          'first': 778,\n",
       "          'saw': 793,\n",
       "          'need': 721,\n",
       "          'slip': 319,\n",
       "          'wore': 711,\n",
       "          'rocked': 2,\n",
       "          'wedges': 84,\n",
       "          'vest': 247,\n",
       "          'careful': 72,\n",
       "          'buttons': 394,\n",
       "          'fall': 969,\n",
       "          'yet': 480,\n",
       "          'overall': 542,\n",
       "          'occasion': 72,\n",
       "          'colors': 1768,\n",
       "          'expected': 237,\n",
       "          'either': 261,\n",
       "          'dark': 359,\n",
       "          'blue': 987,\n",
       "          'much': 1609,\n",
       "          'anything': 292,\n",
       "          'thick': 357,\n",
       "          'weight': 725,\n",
       "          'movement': 69,\n",
       "          'end': 160,\n",
       "          'several': 203,\n",
       "          'goodhyouman': 1,\n",
       "          'shirts': 199,\n",
       "          'many': 874,\n",
       "          'especially': 360,\n",
       "          'one': 2557,\n",
       "          'says': 103,\n",
       "          'forehead': 1,\n",
       "          'kisses': 1,\n",
       "          'underrated': 1,\n",
       "          'hesitate': 29,\n",
       "          'buy': 658,\n",
       "          'sorry': 24,\n",
       "          'sweater': 1742,\n",
       "          'comfy': 665,\n",
       "          'classic': 268,\n",
       "          'balances': 9,\n",
       "          'quirky': 30,\n",
       "          'hand': 104,\n",
       "          'knit': 320,\n",
       "          'beautiful': 1959,\n",
       "          'practical': 31,\n",
       "          'cropped': 204,\n",
       "          'boxy': 368,\n",
       "          'part': 332,\n",
       "          'others': 209,\n",
       "          'mentioned': 172,\n",
       "          'gaps': 7,\n",
       "          'opinion': 111,\n",
       "          'makes': 731,\n",
       "          'layering': 174,\n",
       "          'camisole': 93,\n",
       "          'showing': 107,\n",
       "          'wearing': 1109,\n",
       "          'warm': 528,\n",
       "          'thin': 526,\n",
       "          'enough': 1121,\n",
       "          'jacket': 943,\n",
       "          'never': 299,\n",
       "          'given': 69,\n",
       "          'second': 143,\n",
       "          'online': 1046,\n",
       "          'cuter': 74,\n",
       "          'stripes': 133,\n",
       "          'brighter': 58,\n",
       "          'crop': 43,\n",
       "          'cute': 1980,\n",
       "          'trend': 64,\n",
       "          'brand': 240,\n",
       "          'run': 708,\n",
       "          'carry': 57,\n",
       "          'chubbiness': 1,\n",
       "          'belly': 112,\n",
       "          'collarless': 1,\n",
       "          'navy': 462,\n",
       "          'blazer': 134,\n",
       "          'better': 793,\n",
       "          'downside': 52,\n",
       "          'cleaned': 12,\n",
       "          'neat': 20,\n",
       "          'soft': 2591,\n",
       "          'tall': 399,\n",
       "          'added': 111,\n",
       "          'bonus': 64,\n",
       "          'needs': 92,\n",
       "          'funky': 34,\n",
       "          'tank': 503,\n",
       "          'necklaces': 20,\n",
       "          'boots': 534,\n",
       "          'whim': 78,\n",
       "          'mom': 69,\n",
       "          'draped': 36,\n",
       "          'warmth': 53,\n",
       "          'houston': 7,\n",
       "          'winter': 450,\n",
       "          'looks': 1908,\n",
       "          'polished': 50,\n",
       "          'snapped': 12,\n",
       "          'unsnapped': 2,\n",
       "          'age': 39,\n",
       "          'appropriate': 159,\n",
       "          'amazing': 401,\n",
       "          'skinny': 447,\n",
       "          'gray': 287,\n",
       "          'photos': 236,\n",
       "          'poncho': 78,\n",
       "          'plaid': 93,\n",
       "          'check': 51,\n",
       "          'design': 913,\n",
       "          'sorbet': 4,\n",
       "          'cream': 169,\n",
       "          'turtleneck': 74,\n",
       "          'heels': 279,\n",
       "          'roll': 63,\n",
       "          'spring': 476,\n",
       "          'thermal': 3,\n",
       "          'naturally': 7,\n",
       "          'expect': 123,\n",
       "          'sheer': 429,\n",
       "          'prepared': 16,\n",
       "          'considering': 84,\n",
       "          'might': 498,\n",
       "          'walk': 62,\n",
       "          'house': 89,\n",
       "          'large': 1829,\n",
       "          'oversized': 177,\n",
       "          'pounds': 190,\n",
       "          'want': 691,\n",
       "          'larger': 367,\n",
       "          'along': 115,\n",
       "          'stretched': 48,\n",
       "          'mind': 147,\n",
       "          'finally': 160,\n",
       "          'monitor': 10,\n",
       "          'shows': 150,\n",
       "          'colorful': 43,\n",
       "          'dot': 40,\n",
       "          'today': 309,\n",
       "          'local': 272,\n",
       "          'comfortable': 2493,\n",
       "          'bad': 135,\n",
       "          'picture': 507,\n",
       "          'tucking': 18,\n",
       "          'ruching': 31,\n",
       "          'across': 201,\n",
       "          'alternative': 43,\n",
       "          'plain': 72,\n",
       "          'tee': 477,\n",
       "          'reasonably': 4,\n",
       "          'priced': 20,\n",
       "          'generally': 101,\n",
       "          'probably': 497,\n",
       "          'item': 157,\n",
       "          'looked': 565,\n",
       "          'got': 1794,\n",
       "          'mine': 176,\n",
       "          'seemed': 110,\n",
       "          'sale': 956,\n",
       "          'pops': 22,\n",
       "          'embroidery': 318,\n",
       "          'collar': 158,\n",
       "          'bib': 20,\n",
       "          'received': 601,\n",
       "          'lots': 194,\n",
       "          'questions': 3,\n",
       "          'rather': 191,\n",
       "          'adorable': 393,\n",
       "          'transition': 116,\n",
       "          'summer': 1217,\n",
       "          'purchase': 487,\n",
       "          'washed': 215,\n",
       "          'best': 382,\n",
       "          'blonde': 15,\n",
       "          'brunette': 2,\n",
       "          'likely': 68,\n",
       "          'purchased': 1172,\n",
       "          'absolutely': 587,\n",
       "          'favorite': 413,\n",
       "          'tops': 698,\n",
       "          'unusual': 79,\n",
       "          'asymmetrical': 46,\n",
       "          'seam': 88,\n",
       "          'appears': 124,\n",
       "          'side': 642,\n",
       "          'garment': 60,\n",
       "          'positioned': 5,\n",
       "          'detail': 611,\n",
       "          'attached': 51,\n",
       "          'includes': 3,\n",
       "          'actually': 503,\n",
       "          'creates': 27,\n",
       "          'visual': 17,\n",
       "          'interest': 73,\n",
       "          'adds': 202,\n",
       "          'helps': 92,\n",
       "          'hide': 99,\n",
       "          'cowl': 40,\n",
       "          'neck': 494,\n",
       "          'done': 101,\n",
       "          'two': 486,\n",
       "          'layers': 85,\n",
       "          'found': 655,\n",
       "          'means': 68,\n",
       "          'wardrobe': 285,\n",
       "          'malfun': 1,\n",
       "          'armholes': 124,\n",
       "          'older': 16,\n",
       "          'woman': 63,\n",
       "          'picky': 19,\n",
       "          'slight': 131,\n",
       "          'peplum': 123,\n",
       "          'hangs': 193,\n",
       "          'lightweight': 390,\n",
       "          'opaque': 30,\n",
       "          'bra': 656,\n",
       "          'barely': 75,\n",
       "          'visible': 34,\n",
       "          'warmer': 88,\n",
       "          'climates': 12,\n",
       "          'return': 296,\n",
       "          'winding': 1,\n",
       "          'recommend': 753,\n",
       "          'extremely': 260,\n",
       "          'prints': 62,\n",
       "          'wash': 303,\n",
       "          'bralettes': 3,\n",
       "          'provide': 28,\n",
       "          'support': 56,\n",
       "          'binding': 7,\n",
       "          'night': 223,\n",
       "          'casual': 830,\n",
       "          'supportive': 17,\n",
       "          'lines': 101,\n",
       "          'tag': 84,\n",
       "          'itchy': 149,\n",
       "          'remove': 29,\n",
       "          'simply': 85,\n",
       "          'stunning': 227,\n",
       "          'wait': 451,\n",
       "          'fell': 246,\n",
       "          'ankle': 226,\n",
       "          'happier': 44,\n",
       "          'keyhole': 17,\n",
       "          'recently': 93,\n",
       "          'forever': 26,\n",
       "          'list': 26,\n",
       "          'torso': 264,\n",
       "          'pattern': 675,\n",
       "          'lovely': 748,\n",
       "          'floral': 133,\n",
       "          'september': 10,\n",
       "          'loved': 707,\n",
       "          'mail': 113,\n",
       "          'smitten': 5,\n",
       "          'sometimes': 232,\n",
       "          'stretch': 548,\n",
       "          'stretchy': 282,\n",
       "          'meda': 2,\n",
       "          'lace': 504,\n",
       "          'similar': 156,\n",
       "          'almost': 458,\n",
       "          'gotten': 163,\n",
       "          'lot': 606,\n",
       "          'extra': 467,\n",
       "          'issue': 253,\n",
       "          'eyeing': 47,\n",
       "          'wavering': 3,\n",
       "          'post': 63,\n",
       "          'baby': 149,\n",
       "          'wonky': 5,\n",
       "          'miraculously': 3,\n",
       "          'works': 346,\n",
       "          'sizes': 435,\n",
       "          'lengths': 9,\n",
       "          'give': 419,\n",
       "          'season': 205,\n",
       "          'massively': 1,\n",
       "          'babydoll': 5,\n",
       "          'shaped': 80,\n",
       "          'line': 377,\n",
       "          'apparent': 16,\n",
       "          'pictures': 175,\n",
       "          'measured': 6,\n",
       "          'sweep': 1,\n",
       "          'hung': 56,\n",
       "          'straighter': 11,\n",
       "          'craftsmanship': 11,\n",
       "          'natural': 85,\n",
       "          'handwoven': 1,\n",
       "          'thinking': 154,\n",
       "          'asking': 14,\n",
       "          'take': 357,\n",
       "          'sides': 176,\n",
       "          'ruin': 6,\n",
       "          'layout': 1,\n",
       "          'cut': 1179,\n",
       "          'proportioned': 12,\n",
       "          'swing': 240,\n",
       "          'short': 1179,\n",
       "          'fitted': 570,\n",
       "          'uncomfortable': 54,\n",
       "          'hang': 122,\n",
       "          'zipper': 196,\n",
       "          'goes': 313,\n",
       "          'bottom': 753,\n",
       "          'easier': 24,\n",
       "          'lack': 19,\n",
       "          'unlike': 68,\n",
       "          'another': 509,\n",
       "          'reviewer': 290,\n",
       "          'business': 45,\n",
       "          'meeting': 8,\n",
       "          'drawn': 60,\n",
       "          'doll': 12,\n",
       "          'immediately': 165,\n",
       "          'swallow': 9,\n",
       "          'whole': 99,\n",
       "          'lets': 12,\n",
       "          'chart': 13,\n",
       "          'read': 140,\n",
       "          'comments': 41,\n",
       "          'description': 69,\n",
       "          'recommended': 51,\n",
       "          'specific': 11,\n",
       "          'type': 216,\n",
       "          'weigh': 64,\n",
       "          'material': 1670,\n",
       "          'altered': 56,\n",
       "          'chose': 80,\n",
       "          'luxurious': 42,\n",
       "          'obsessed': 45,\n",
       "          'everyday': 82,\n",
       "          'wears': 51,\n",
       "          'drapey': 42,\n",
       "          'rolls': 12,\n",
       "          'arms': 622,\n",
       "          'overpriced': 8,\n",
       "          'somewhat': 123,\n",
       "          'normal': 339,\n",
       "          'fine': 447,\n",
       "          'gets': 78,\n",
       "          'fact': 157,\n",
       "          'totally': 167,\n",
       "          'sense': 28,\n",
       "          'essentially': 9,\n",
       "          'fancy': 39,\n",
       "          'tshirt': 38,\n",
       "          'bring': 51,\n",
       "          'alone': 70,\n",
       "          'originally': 97,\n",
       "          'planned': 13,\n",
       "          'come': 236,\n",
       "          'petites': 87,\n",
       "          'hit': 302,\n",
       "          'hemmed': 63,\n",
       "          'overwhelming': 61,\n",
       "          'hair': 56,\n",
       "          'elegant': 173,\n",
       "          'contemporary': 15,\n",
       "          'stylish': 253,\n",
       "          'salesperson': 8,\n",
       "          'happen': 28,\n",
       "          'raved': 3,\n",
       "          'told': 29,\n",
       "          'grab': 54,\n",
       "          'plan': 249,\n",
       "          'daughte': 1,\n",
       "          'rest': 81,\n",
       "          'reviewers': 339,\n",
       "          'accurately': 12,\n",
       "          'pictured': 313,\n",
       "          'orange': 251,\n",
       "          'recieved': 5,\n",
       "          'cedar': 5,\n",
       "          'brown': 159,\n",
       "          'jackets': 93,\n",
       "          'ive': 7,\n",
       "          'seen': 105,\n",
       "          'ber': 1,\n",
       "          'bulky': 116,\n",
       "          'heavy': 325,\n",
       "          'waterproof': 1,\n",
       "          'heavily': 5,\n",
       "          'insulated': 1,\n",
       "          'average': 69,\n",
       "          'day': 589,\n",
       "          'option': 93,\n",
       "          'removable': 17,\n",
       "          'antro': 10,\n",
       "          'week': 80,\n",
       "          'wonderful': 243,\n",
       "          'greenish': 13,\n",
       "          'camsiole': 1,\n",
       "          'shoulders': 688,\n",
       "          'removed': 16,\n",
       "          'snaps': 42,\n",
       "          'tooks': 1,\n",
       "          'worn': 923,\n",
       "          'ways': 91,\n",
       "          'campole': 1,\n",
       "          'peeks': 4,\n",
       "          'touch': 234,\n",
       "          'neckli': 1,\n",
       "          'section': 76,\n",
       "          'surprisingly': 74,\n",
       "          'room': 380,\n",
       "          'eat': 13,\n",
       "          'neutral': 187,\n",
       "          'spot': 112,\n",
       "          'debated': 26,\n",
       "          'tighten': 20,\n",
       "          'decide': 55,\n",
       "          'huge': 181,\n",
       "          'pinched': 1,\n",
       "          'looser': 139,\n",
       "          'however': 759,\n",
       "          'order': 612,\n",
       "          'eptite': 3,\n",
       "          'che': 1,\n",
       "          'burnt': 26,\n",
       "          'excited': 149,\n",
       "          'lacked': 4,\n",
       "          'tailored': 90,\n",
       "          'velvet': 76,\n",
       "          'tunic': 333,\n",
       "          'instead': 163,\n",
       "          'quite': 532,\n",
       "          'foot': 39,\n",
       "          'curvy': 293,\n",
       "          'difficult': 96,\n",
       "          'zip': 103,\n",
       "          'italy': 9,\n",
       "          'france': 2,\n",
       "          'book': 10,\n",
       "          'tickets': 1,\n",
       "          'caught': 108,\n",
       "          'eye': 164,\n",
       "          'unfortunately': 202,\n",
       "          'possibilities': 15,\n",
       "          'far': 180,\n",
       "          'shorts': 414,\n",
       "          'prefer': 177,\n",
       "          'items': 116,\n",
       "          'versatility': 45,\n",
       "          'outfits': 43,\n",
       "          'fence': 66,\n",
       "          'aside': 18,\n",
       "          'seriously': 41,\n",
       "          'pleased': 160,\n",
       "          'ads': 3,\n",
       "          'neckline': 373,\n",
       "          'enhances': 14,\n",
       "          'various': 28,\n",
       "          'limitless': 2,\n",
       "          'options': 52,\n",
       "          'states': 13,\n",
       "          'moss': 75,\n",
       "          'taupe': 71,\n",
       "          'liked': 338,\n",
       "          'green': 603,\n",
       "          'tones': 33,\n",
       "          'fantastic': 135,\n",
       "          'wavy': 2,\n",
       "          'stretches': 27,\n",
       "          'cami': 330,\n",
       "          'lean': 29,\n",
       "          'forward': 131,\n",
       "          'world': 21,\n",
       "          'place': 111,\n",
       "          'may': 565,\n",
       "          'despite': 78,\n",
       "          'hides': 95,\n",
       "          'flaws': 61,\n",
       "          'seamed': 3,\n",
       "          'scoop': 35,\n",
       "          'full': 447,\n",
       "          'inches': 210,\n",
       "          'believe': 93,\n",
       "          'constructed': 47,\n",
       "          'silk': 128,\n",
       "          'quot': 9,\n",
       "          'sky': 29,\n",
       "          'teal': 69,\n",
       "          'disappointed': 147,\n",
       "          'darker': 115,\n",
       "          'photo': 411,\n",
       "          'beauty': 77,\n",
       "          'sassy': 8,\n",
       "          'appeal': 28,\n",
       "          'drapes': 237,\n",
       "          'snake': 2,\n",
       "          'slithering': 1,\n",
       "          'comes': 197,\n",
       "          'attitude': 7,\n",
       "          'sadly': 95,\n",
       "          'returning': 130,\n",
       "          'gave': 142,\n",
       "          'stars': 110,\n",
       "          'ivory': 183,\n",
       "          'tends': 35,\n",
       "          'endowed': 15,\n",
       "          'contrasting': 29,\n",
       "          'inside': 147,\n",
       "          'cuffs': 55,\n",
       "          'keeping': 221,\n",
       "          'touches': 23,\n",
       "          'sooooo': 11,\n",
       "          'exactly': 266,\n",
       "          'numerous': 25,\n",
       "          'normally': 616,\n",
       "          'slightest': 10,\n",
       "          'review': 178,\n",
       "          'disagree': 48,\n",
       "          'generous': 52,\n",
       "          'dressed': 552,\n",
       "          'necklace': 126,\n",
       "          'broad': 162,\n",
       "          'hours': 43,\n",
       "          'prior': 19,\n",
       "          'nailed': 3,\n",
       "          'summary': 3,\n",
       "          'subtle': 174,\n",
       "          'unexpected': 26,\n",
       "          'dimension': 9,\n",
       "          'turned': 47,\n",
       "          'stressed': 1,\n",
       "          'current': 24,\n",
       "          'enjoy': 41,\n",
       "          'striped': 55,\n",
       "          'accent': 21,\n",
       "          'reading': 97,\n",
       "          'previous': 169,\n",
       "          'olive': 78,\n",
       "          'kinda': 30,\n",
       "          'funny': 37,\n",
       "          'odd': 71,\n",
       "          'tied': 55,\n",
       "          'laying': 9,\n",
       "          'piece': 810,\n",
       "          'wished': 11,\n",
       "          'umph': 3,\n",
       "          'slit': 74,\n",
       "          'gives': 225,\n",
       "          'sleeve': 265,\n",
       "          'jammie': 3,\n",
       "          'seems': 323,\n",
       "          'hard': 242,\n",
       "          'staying': 12,\n",
       "          'closed': 45,\n",
       "          'open': 222,\n",
       "          'add': 287,\n",
       "          'without': 780,\n",
       "          'hot': 260,\n",
       "          'creation': 4,\n",
       "          'cotton': 348,\n",
       "          'details': 398,\n",
       "          'executed': 4,\n",
       "          'fullness': 24,\n",
       "          'easy': 605,\n",
       "          'humid': 23,\n",
       "          'locations': 2,\n",
       "          'things': 275,\n",
       "          'collected': 7,\n",
       "          'mistaking': 1,\n",
       "          'frame': 261,\n",
       "          'years': 228,\n",
       "          'deep': 160,\n",
       "          'forest': 9,\n",
       "          'suede': 37,\n",
       "          'finish': 23,\n",
       "          'slightly': 620,\n",
       "          'higher': 177,\n",
       "          'fifth': 1,\n",
       "          'star': 68,\n",
       "          'definetly': 1,\n",
       "          'wide': 386,\n",
       "          'height': 97,\n",
       "          'hitting': 22,\n",
       "          'shortness': 7,\n",
       "          'shrunk': 30,\n",
       "          'dryer': 46,\n",
       "          'coats': 27,\n",
       "          'ones': 72,\n",
       "          'unflattering': 70,\n",
       "          'arrive': 22,\n",
       "          'least': 165,\n",
       "          'maybe': 292,\n",
       "          'thicker': 128,\n",
       "          'decent': 28,\n",
       "          'silhouette': 91,\n",
       "          'versatile': 478,\n",
       "          'round': 96,\n",
       "          'degrees': 6,\n",
       "          'pieces': 120,\n",
       "          'closet': 170,\n",
       "          'styled': 55,\n",
       "          'denim': 451,\n",
       "          'hugging': 36,\n",
       "          'layered': 94,\n",
       "          'reversible': 16,\n",
       "          'pink': 371,\n",
       "          'scratchy': 67,\n",
       "          'discounts': 2,\n",
       "          'lucked': 6,\n",
       "          'practically': 11,\n",
       "          'peittes': 1,\n",
       "          'narrow': 102,\n",
       "          'able': 321,\n",
       "          'brought': 30,\n",
       "          'stylists': 5,\n",
       "          'adn': 21,\n",
       "          'winner': 73,\n",
       "          'texas': 23,\n",
       "          'cheerful': 12,\n",
       "          'pockets': 478,\n",
       "          'real': 98,\n",
       "          'life': 74,\n",
       "          'sizing': 460,\n",
       "          'mostly': 67,\n",
       "          'compared': 50,\n",
       "          'point': 107,\n",
       "          'high': 770,\n",
       "          'office': 136,\n",
       "          'gal': 26,\n",
       "          'impeccable': 8,\n",
       "          'mirror': 17,\n",
       "          'seasons': 117,\n",
       "          'artsy': 5,\n",
       "          'whimsical': 30,\n",
       "          'unless': 74,\n",
       "          'course': 55,\n",
       "          'delicate': 202,\n",
       "          'noted': 63,\n",
       "          'pics': 50,\n",
       "          'justice': 164,\n",
       "          'truly': 119,\n",
       "          'intricate': 31,\n",
       "          'rich': 172,\n",
       "          'agree': 232,\n",
       "          'sensitive': 29,\n",
       "          'skin': 240,\n",
       "          'metallic': 45,\n",
       "          'holiday': 88,\n",
       "          'dinner': 119,\n",
       "          'based': 188,\n",
       "          'ran': 171,\n",
       "          'six': 44,\n",
       "          'showed': 41,\n",
       "          'cleavage': 51,\n",
       "          'flares': 63,\n",
       "          'clown': 4,\n",
       "          'costume': 4,\n",
       "          'perhaps': 97,\n",
       "          'install': 2,\n",
       "          'buckles': 3,\n",
       "          'match': 72,\n",
       "          'buckle': 7,\n",
       "          'fold': 35,\n",
       "          'note': 89,\n",
       "          'feels': 439,\n",
       "          'fake': 5,\n",
       "          'leather': 133,\n",
       "          'yes': 134,\n",
       "          'fibers': 11,\n",
       "          'solves': 8,\n",
       "          'problem': 294,\n",
       "          'ordering': 204,\n",
       "          'realized': 47,\n",
       "          'cld': 2,\n",
       "          'strapless': 67,\n",
       "          'wld': 12,\n",
       "          'wider': 79,\n",
       "          'strap': 56,\n",
       "          'cover': 182,\n",
       "          'area': 386,\n",
       "          'obvious': 21,\n",
       "          'sort': 96,\n",
       "          'swtr': 5,\n",
       "          'needed': 262,\n",
       "          'anyway': 135,\n",
       "          'faux': 60,\n",
       "          'fur': 48,\n",
       "          'cardi': 43,\n",
       "          'shrug': 10,\n",
       "          'slvs': 1,\n",
       "          'plum': 44,\n",
       "          'tighter': 77,\n",
       "          'apart': 27,\n",
       "          'weak': 3,\n",
       "          'pilled': 7,\n",
       "          'textured': 34,\n",
       "          'notice': 64,\n",
       "          'ready': 33,\n",
       "          'ugly': 7,\n",
       "          'north': 16,\n",
       "          'face': 9,\n",
       "          'inch': 122,\n",
       "          'bright': 203,\n",
       "          'multiple': 71,\n",
       "          'mild': 15,\n",
       "          'weather': 312,\n",
       "          'swings': 18,\n",
       "          'maeve': 117,\n",
       "          'exception': 73,\n",
       "          'pleasantly': 81,\n",
       "          'surprised': 231,\n",
       "          'upon': 58,\n",
       "          'receiving': 23,\n",
       "          'ruffle': 74,\n",
       "          'coverage': 123,\n",
       "          'underarms': 7,\n",
       "          'low': 442,\n",
       "          ...})"
      ]
     },
     "metadata": {},
     "output_type": "display_data"
    },
    {
     "name": "stdout",
     "output_type": "stream",
     "text": [
      "None\n"
     ]
    }
   ],
   "source": [
    "# Get frequency of words in both positive and negative reviews\n",
    "word_dict_pos = nltk.FreqDist(words_cleaned[words_cleaned['Sentiment']==1]['Words'])\n",
    "word_dict_neg = nltk.FreqDist(words_cleaned[words_cleaned['Sentiment']==0]['Words'])\n",
    "\n",
    "print(display(word_dict_pos))"
   ]
  },
  {
   "cell_type": "code",
   "execution_count": 51,
   "metadata": {
    "collapsed": false,
    "deletable": true,
    "editable": true
   },
   "outputs": [
    {
     "name": "stdout",
     "output_type": "stream",
     "text": [
      "300\n"
     ]
    }
   ],
   "source": [
    "# Select more features from negative reviews \n",
    "# due to relatively small sample size in negative reviews \n",
    "# and worse model performance in predicting negative reviews\n",
    "\n",
    "# N_pos = 150\n",
    "N_neg = 300  \n",
    "# dict_pos = [i[0] for i in word_dict_pos.most_common(N_pos)]\n",
    "dict_neg = [i[0] for i in word_dict_neg.most_common(N_neg)]\n",
    "# word_dict = list(set(dict_pos+dict_neg))\n",
    "word_dict = dict_neg\n",
    "\n",
    "# Number of features\n",
    "print(len(word_dict))"
   ]
  },
  {
   "cell_type": "code",
   "execution_count": 52,
   "metadata": {
    "collapsed": false,
    "deletable": true,
    "editable": true
   },
   "outputs": [
    {
     "name": "stdout",
     "output_type": "stream",
     "text": [
      "['dress', 'like', 'top', 'would', 'fabric', 'fit', 'size', 'back', 'ordered', 'look', 'small', 'really', 'love', 'shirt', 'wear', 'material', 'one', 'looks', 'color', 'much', 'looked', 'also', 'even', 'way', 'quality', 'made', 'retailer', 'large', 'cute', 'sweater', 'model', 'could', 'great', 'work', 'tried', 'wanted', 'cut', 'well', 'short', 'disappointed', 'however', 'online', 'flattering', 'waist', 'pretty', 'going', 'loved', 'big', 'design', 'beautiful', 'good', 'see', 'thin', 'nice', 'return', 'thought', 'get', 'huge', 'right', 'unfortunately', 'first', 'petite', 'tight', 'bought', 'price', 'usually', 'colors', 'skirt', 'picture', 'long', 'got', 'shape', 'chest', 'cheap', 'medium', 'pants', 'sleeves', 'front', 'length', 'returned', 'felt', 'store', 'think', 'bottom', 'lbs', 'still', 'person', 'reviews', 'wearing', 'style', 'body', 'runs', 'high', 'arms', 'little', 'white', 'bit', 'unflattering', 'around', 'soft', 'better', 'super', 'excited', 'boxy', 'returning', 'looking', 'wide', 'time', 'try', 'bust', 'photo', 'bad', 'make', 'two', 'perfect', 'blue', 'shoulders', 'purchased', 'though', 'blouse', 'black', 'something', 'sale', 'loose', 'side', 'hips', 'jeans', 'received', 'put', 'sure', 'wash', 'washed', 'sadly', 'went', 'makes', 'feel', 'maybe', 'smaller', 'overall', 'definitely', 'sizes', 'saw', 'came', 'print', 'nothing', 'dresses', 'pattern', 'almost', 'arrived', 'fits', 'wore', 'part', 'tops', 'quite', 'area', 'found', 'extra', 'true', 'zipper', 'expected', 'tall', 'order', 'someone', 'completely', 'lot', 'comfortable', 'neck', 'since', 'holes', 'pair', 'normally', 'problem', 'shorter', 'worth', 'might', 'different', 'sheer', 'arm', 'weird', 'another', 'line', 'low', 'said', 'gorgeous', 'extremely', 'usual', 'sizing', 'thing', 'buy', 'slip', 'sized', 'dry', 'light', 'keep', 'lovely', 'bra', 'enough', 'fitted', 'liked', 'find', 'buttons', 'poor', 'thick', 'piece', 'lining', 'absolutely', 'day', 'longer', 'want', 'say', 'wish', 'idea', 'button', 'stiff', 'odd', 'tent', 'heavy', 'disappointing', 'reference', 'summer', 'pictured', 'reviewer', 'wrong', 'larger', 'regular', 'lace', 'feels', 'coat', 'especially', 'photos', 'figure', 'worn', 'recommend', 'sad', 'jacket', 'actually', 'fitting', 'full', 'fine', 'mail', 'awful', 'underneath', 'either', 'strange', 'maternity', 'give', 'take', 'need', 'may', 'red', 'took', 'seemed', 'know', 'item', 'already', 'pictures', 'many', 'neckline', 'without', 'kind', 'shown', 'bag', 'reviewers', 'flowy', 'awkward', 'least', 'itchy', 'normal', 'hung', 'hoping', 'trying', 'product', 'probably', 'knit', 'suit', 'every', 'adorable', 'away', 'never', 'straight', 'bulky', 'flat', 'sides', 'immediately', 'frame', 'imagine', 'shapeless', 'across', 'pounds', 'cotton', 'seam', 'money', 'stretch', 'curvy', 'although', 'inches', 'terrible', 'everything', 'previous', 'type']\n"
     ]
    }
   ],
   "source": [
    "print(word_dict)"
   ]
  },
  {
   "cell_type": "markdown",
   "metadata": {
    "deletable": true,
    "editable": true
   },
   "source": [
    "Convert Text to Vectors"
   ]
  },
  {
   "cell_type": "code",
   "execution_count": 53,
   "metadata": {
    "collapsed": true,
    "deletable": true,
    "editable": true
   },
   "outputs": [],
   "source": [
    "# Select list of words from word_dict in review text \n",
    "import string\n",
    "def text_process(review):\n",
    "    nopunc=[word for word in review if word not in string.punctuation]\n",
    "    nopunc=''.join(nopunc)\n",
    "    return [word for word in nopunc.split() if word.lower() not in stopwords.words('english') and word.lower() in word_dict]"
   ]
  },
  {
   "cell_type": "code",
   "execution_count": 91,
   "metadata": {
    "collapsed": false,
    "deletable": true,
    "editable": true
   },
   "outputs": [
    {
     "name": "stdout",
     "output_type": "stream",
     "text": [
      "       Clothing ID  Age                          Title  \\\n",
      "18410          876   69                          Love!   \n",
      "14198          867   49                      So pretty   \n",
      "20767         1110   24  Velvet maxi dress for the win   \n",
      "11743          960   51                          Love!   \n",
      "10100          863   29                Beautiful color   \n",
      "\n",
      "                                             Review Text  Rating  \\\n",
      "18410  I love how unique this top is, especially the ...       5   \n",
      "14198  I took a chance and ordered this top on sale, ...       5   \n",
      "20767  This velvet maxi dress is what fall dreams are...       5   \n",
      "11743  I absolutely love this vest. it fits extremely...       5   \n",
      "10100  This shirt is such a beautiful color! the lave...       5   \n",
      "\n",
      "       Recommended IND  Positive Feedback Count Division Name Department Name  \\\n",
      "18410                1                        0       General            Tops   \n",
      "14198                1                        2       General            Tops   \n",
      "20767                1                       12       General         Dresses   \n",
      "11743                1                        1       General         Jackets   \n",
      "10100                1                        0       General            Tops   \n",
      "\n",
      "      Class Name Sentiment  \n",
      "18410      Knits  Positive  \n",
      "14198      Knits  Positive  \n",
      "20767    Dresses  Positive  \n",
      "11743    Jackets  Positive  \n",
      "10100      Knits  Positive  \n"
     ]
    }
   ],
   "source": [
    "# select model data from unbalanced dataset\n",
    "\n",
    "num_of_neg_reviews = len(df[df.Sentiment=='Negative'])\n",
    "neg_reviews = df[df.Sentiment=='Negative']\n",
    "pos_reviews = df[df.Sentiment=='Positive'].sample(n=num_of_neg_reviews,random_state=0)\n",
    "model_data = pd.concat([pos_reviews, neg_reviews])\n",
    "\n",
    "print(model_data.head(5))\n",
    "\n",
    "X_review=model_data['Review Text']\n",
    "y= model_data['Sentiment']"
   ]
  },
  {
   "cell_type": "code",
   "execution_count": 92,
   "metadata": {
    "collapsed": false,
    "deletable": true,
    "editable": true
   },
   "outputs": [],
   "source": [
    "from sklearn.feature_extraction.text import CountVectorizer\n",
    "X_review=CountVectorizer(analyzer=text_process).fit_transform(X_review)"
   ]
  },
  {
   "cell_type": "markdown",
   "metadata": {
    "deletable": true,
    "editable": true
   },
   "source": [
    "Split dataset to train, validation and test set"
   ]
  },
  {
   "cell_type": "code",
   "execution_count": 93,
   "metadata": {
    "collapsed": true,
    "deletable": true,
    "editable": true
   },
   "outputs": [],
   "source": [
    "from sklearn.model_selection import train_test_split\n",
    "X_train, X_test, y_train, y_test = train_test_split(X_review, y, test_size=0.2, random_state=0)\n",
    "X_train, X_valid, y_train, y_valid = train_test_split(X_train, y_train, test_size=0.2, random_state=0)"
   ]
  },
  {
   "cell_type": "markdown",
   "metadata": {
    "deletable": true,
    "editable": true
   },
   "source": [
    "Train Model Using Support Vector Machine"
   ]
  },
  {
   "cell_type": "code",
   "execution_count": 107,
   "metadata": {
    "collapsed": false,
    "deletable": true,
    "editable": true
   },
   "outputs": [
    {
     "data": {
      "text/plain": [
       "SVC(C=1.0, cache_size=200, class_weight=None, coef0=0.0,\n",
       "  decision_function_shape='ovr', degree=3, gamma='auto', kernel='rbf',\n",
       "  max_iter=-1, probability=False, random_state=None, shrinking=True,\n",
       "  tol=0.001, verbose=False)"
      ]
     },
     "execution_count": 107,
     "metadata": {},
     "output_type": "execute_result"
    }
   ],
   "source": [
    "from sklearn import svm\n",
    "\n",
    "# model 1 - SVM with linear kernel\n",
    "clf1 = svm.LinearSVC()\n",
    "clf1.fit(X_train, y_train)\n",
    "\n",
    "# model 2 - SVM with RBF kernel\n",
    "clf2 = svm.SVC(kernel='rbf')\n",
    "clf2.fit(X_train, y_train)"
   ]
  },
  {
   "cell_type": "markdown",
   "metadata": {
    "deletable": true,
    "editable": true
   },
   "source": [
    "# Model Selection"
   ]
  },
  {
   "cell_type": "markdown",
   "metadata": {
    "deletable": true,
    "editable": true
   },
   "source": [
    "Training Set"
   ]
  },
  {
   "cell_type": "code",
   "execution_count": 108,
   "metadata": {
    "collapsed": false,
    "deletable": true,
    "editable": true
   },
   "outputs": [
    {
     "name": "stdout",
     "output_type": "stream",
     "text": [
      "0.90625\n",
      "0.854039634146\n"
     ]
    }
   ],
   "source": [
    "# Accuracy Ratio\n",
    "y_score1=clf1.predict(X_train)\n",
    "accuracy1=(sum(y_score1==y_train)/len(y_train))\n",
    "\n",
    "y_score2=clf2.predict(X_train)\n",
    "accuracy2=(sum(y_score2==y_train)/len(y_train))\n",
    "\n",
    "print(accuracy1)\n",
    "print(accuracy2)"
   ]
  },
  {
   "cell_type": "code",
   "execution_count": 117,
   "metadata": {
    "collapsed": false,
    "deletable": true,
    "editable": true
   },
   "outputs": [
    {
     "name": "stdout",
     "output_type": "stream",
     "text": [
      "Model 1\n",
      "\n",
      "[[1186  137]\n",
      " [ 109 1192]]\n",
      "\n",
      "\n",
      "             precision    recall  f1-score   support\n",
      "\n",
      "   Negative       0.92      0.90      0.91      1323\n",
      "   Positive       0.90      0.92      0.91      1301\n",
      "\n",
      "avg / total       0.91      0.91      0.91      2624\n",
      "\n",
      "\n",
      "Model2 \n",
      "\n",
      "[[1130  193]\n",
      " [ 190 1111]]\n",
      "\n",
      "\n",
      "             precision    recall  f1-score   support\n",
      "\n",
      "   Negative       0.86      0.85      0.86      1323\n",
      "   Positive       0.85      0.85      0.85      1301\n",
      "\n",
      "avg / total       0.85      0.85      0.85      2624\n",
      "\n"
     ]
    }
   ],
   "source": [
    "from sklearn.metrics import confusion_matrix, classification_report\n",
    "\n",
    "# model 1\n",
    "print ('Model 1\\n')\n",
    "print(confusion_matrix(y_train, y_score1))\n",
    "print('\\n')\n",
    "print(classification_report(y_train, y_score1))\n",
    "\n",
    "# model 2\n",
    "print ('\\nModel2 \\n')\n",
    "print(confusion_matrix(y_train, y_score2))\n",
    "print('\\n')\n",
    "print(classification_report(y_train, y_score2))"
   ]
  },
  {
   "cell_type": "markdown",
   "metadata": {
    "deletable": true,
    "editable": true
   },
   "source": [
    "Validation Set - Model Selection"
   ]
  },
  {
   "cell_type": "code",
   "execution_count": 113,
   "metadata": {
    "collapsed": false,
    "deletable": true,
    "editable": true
   },
   "outputs": [
    {
     "name": "stdout",
     "output_type": "stream",
     "text": [
      "0.815829528158\n",
      "0.821917808219\n"
     ]
    }
   ],
   "source": [
    "# Accuracy Ratio\n",
    "y_score_valid1=clf1.predict(X_valid)\n",
    "accuracy_valid1=(sum(y_score_valid1==y_valid)/len(y_valid))\n",
    "print(accuracy_valid1)\n",
    "\n",
    "y_score_valid2=clf2.predict(X_valid)\n",
    "accuracy_valid2=(sum(y_score_valid2==y_valid)/len(y_valid))\n",
    "print(accuracy_valid2)"
   ]
  },
  {
   "cell_type": "code",
   "execution_count": 114,
   "metadata": {
    "collapsed": false,
    "deletable": true,
    "editable": true
   },
   "outputs": [
    {
     "name": "stdout",
     "output_type": "stream",
     "text": [
      "Model 1\n",
      "\n",
      "[[249  63]\n",
      " [ 58 287]]\n",
      "\n",
      "\n",
      "             precision    recall  f1-score   support\n",
      "\n",
      "   Negative       0.81      0.80      0.80       312\n",
      "   Positive       0.82      0.83      0.83       345\n",
      "\n",
      "avg / total       0.82      0.82      0.82       657\n",
      "\n",
      "\n",
      "Model 2\n",
      "\n",
      "[[253  59]\n",
      " [ 58 287]]\n",
      "\n",
      "\n",
      "             precision    recall  f1-score   support\n",
      "\n",
      "   Negative       0.81      0.81      0.81       312\n",
      "   Positive       0.83      0.83      0.83       345\n",
      "\n",
      "avg / total       0.82      0.82      0.82       657\n",
      "\n"
     ]
    }
   ],
   "source": [
    "print('Model 1\\n')\n",
    "print(confusion_matrix(y_valid, y_score_valid1))\n",
    "print('\\n')\n",
    "print(classification_report(y_valid, y_score_valid1))\n",
    "\n",
    "print('\\nModel 2\\n')\n",
    "print(confusion_matrix(y_valid, y_score_valid2))\n",
    "print('\\n')\n",
    "print(classification_report(y_valid, y_score_valid2))"
   ]
  },
  {
   "cell_type": "markdown",
   "metadata": {
    "deletable": true,
    "editable": true
   },
   "source": [
    "# Model Evaluation"
   ]
  },
  {
   "cell_type": "markdown",
   "metadata": {
    "deletable": true,
    "editable": true
   },
   "source": [
    "Model 1 is selected. Evaluate the model performance on test set"
   ]
  },
  {
   "cell_type": "code",
   "execution_count": 115,
   "metadata": {
    "collapsed": false,
    "deletable": true,
    "editable": true
   },
   "outputs": [
    {
     "name": "stdout",
     "output_type": "stream",
     "text": [
      "0.825822168088\n"
     ]
    }
   ],
   "source": [
    "y_score_test=clf1.predict(X_test)\n",
    "accuracy_test=(sum(y_score_test==y_test)/len(y_test))\n",
    "print(accuracy_test)"
   ]
  },
  {
   "cell_type": "code",
   "execution_count": 116,
   "metadata": {
    "collapsed": false,
    "deletable": true,
    "editable": true
   },
   "outputs": [
    {
     "name": "stdout",
     "output_type": "stream",
     "text": [
      "[[337  79]\n",
      " [ 64 341]]\n",
      "\n",
      "\n",
      "             precision    recall  f1-score   support\n",
      "\n",
      "   Negative       0.84      0.81      0.82       416\n",
      "   Positive       0.81      0.84      0.83       405\n",
      "\n",
      "avg / total       0.83      0.83      0.83       821\n",
      "\n"
     ]
    }
   ],
   "source": [
    "print(confusion_matrix(y_test, y_score_test))\n",
    "print('\\n')\n",
    "print(classification_report(y_test, y_score_test))"
   ]
  }
 ],
 "metadata": {
  "kernelspec": {
   "display_name": "Python 3",
   "language": "python",
   "name": "python3"
  },
  "language_info": {
   "codemirror_mode": {
    "name": "ipython",
    "version": 3
   },
   "file_extension": ".py",
   "mimetype": "text/x-python",
   "name": "python",
   "nbconvert_exporter": "python",
   "pygments_lexer": "ipython3",
   "version": "3.6.3"
  }
 },
 "nbformat": 4,
 "nbformat_minor": 2
}
