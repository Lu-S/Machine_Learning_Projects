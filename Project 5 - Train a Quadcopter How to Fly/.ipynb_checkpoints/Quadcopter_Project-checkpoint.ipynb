{
 "cells": [
  {
   "cell_type": "markdown",
   "metadata": {
    "deletable": true,
    "editable": true
   },
   "source": [
    "# Project: Train a Quadcopter How to Fly\n",
    "\n",
    "Design an agent to fly a quadcopter, and then train it using a reinforcement learning algorithm of your choice! \n",
    "\n",
    "Try to apply the techniques you have learnt, but also feel free to come up with innovative ideas and test them."
   ]
  },
  {
   "cell_type": "markdown",
   "metadata": {
    "deletable": true,
    "editable": true
   },
   "source": [
    "## Instructions\n",
    "\n",
    "Take a look at the files in the directory to better understand the structure of the project. \n",
    "\n",
    "- `task.py`: Define your task (environment) in this file.\n",
    "- `agents/`: Folder containing reinforcement learning agents.\n",
    "    - `policy_search.py`: A sample agent has been provided here.\n",
    "    - `agent.py`: Develop your agent here.\n",
    "- `physics_sim.py`: This file contains the simulator for the quadcopter.  **DO NOT MODIFY THIS FILE**.\n",
    "\n",
    "For this project, you will define your own task in `task.py`.  Although we have provided a example task to get you started, you are encouraged to change it.  Later in this notebook, you will learn more about how to amend this file.\n",
    "\n",
    "You will also design a reinforcement learning agent in `agent.py` to complete your chosen task.  \n",
    "\n",
    "You are welcome to create any additional files to help you to organize your code.  For instance, you may find it useful to define a `model.py` file defining any needed neural network architectures.\n",
    "\n",
    "## Controlling the Quadcopter\n",
    "\n",
    "We provide a sample agent in the code cell below to show you how to use the sim to control the quadcopter.  This agent is even simpler than the sample agent that you'll examine (in `agents/policy_search.py`) later in this notebook!\n",
    "\n",
    "The agent controls the quadcopter by setting the revolutions per second on each of its four rotors.  The provided agent in the `Basic_Agent` class below always selects a random action for each of the four rotors.  These four speeds are returned by the `act` method as a list of four floating-point numbers.  \n",
    "\n",
    "For this project, the agent that you will implement in `agents/agent.py` will have a far more intelligent method for selecting actions!"
   ]
  },
  {
   "cell_type": "code",
   "execution_count": 8,
   "metadata": {
    "collapsed": true,
    "deletable": true,
    "editable": true
   },
   "outputs": [],
   "source": [
    "import random\n",
    "\n",
    "class Basic_Agent():\n",
    "    def __init__(self, task):\n",
    "        self.task = task\n",
    "    \n",
    "    def act(self):\n",
    "        new_thrust = random.gauss(450., 25.)\n",
    "        return [new_thrust + random.gauss(0., 1.) for x in range(4)]"
   ]
  },
  {
   "cell_type": "markdown",
   "metadata": {
    "deletable": true,
    "editable": true
   },
   "source": [
    "Run the code cell below to have the agent select actions to control the quadcopter.  \n",
    "\n",
    "Feel free to change the provided values of `runtime`, `init_pose`, `init_velocities`, and `init_angle_velocities` below to change the starting conditions of the quadcopter.\n",
    "\n",
    "The `labels` list below annotates statistics that are saved while running the simulation.  All of this information is saved in a text file `data.txt` and stored in the dictionary `results`.  "
   ]
  },
  {
   "cell_type": "code",
   "execution_count": 9,
   "metadata": {
    "collapsed": true,
    "deletable": true,
    "editable": true
   },
   "outputs": [],
   "source": [
    "%load_ext autoreload\n",
    "%autoreload 2\n",
    "\n",
    "import csv\n",
    "import numpy as np\n",
    "from task import Task\n",
    "\n",
    "# Modify the values below to give the quadcopter a different starting position.\n",
    "runtime = 5.                                     # time limit of the episode\n",
    "init_pose = np.array([0., 0., 10., 0., 0., 0.])  # initial pose\n",
    "init_velocities = np.array([0., 0., 0.])         # initial velocities\n",
    "init_angle_velocities = np.array([0., 0., 0.])   # initial angle velocities\n",
    "file_output = 'data.txt'                         # file name for saved results\n",
    "\n",
    "# Setup\n",
    "task = Task(init_pose, init_velocities, init_angle_velocities, runtime)\n",
    "agent = Basic_Agent(task)\n",
    "done = False\n",
    "labels = ['time', 'x', 'y', 'z', 'phi', 'theta', 'psi', 'x_velocity',\n",
    "          'y_velocity', 'z_velocity', 'phi_velocity', 'theta_velocity',\n",
    "          'psi_velocity', 'rotor_speed1', 'rotor_speed2', 'rotor_speed3', 'rotor_speed4']\n",
    "results = {x : [] for x in labels}\n",
    "\n",
    "# Run the simulation, and save the results.\n",
    "with open(file_output, 'w') as csvfile:\n",
    "    writer = csv.writer(csvfile)\n",
    "    writer.writerow(labels)\n",
    "    while True:\n",
    "        rotor_speeds = agent.act()\n",
    "        _, _, done = task.step(rotor_speeds)\n",
    "        to_write = [task.sim.time] + list(task.sim.pose) + list(task.sim.v) + list(task.sim.angular_v) + list(rotor_speeds)\n",
    "        for ii in range(len(labels)):\n",
    "            results[labels[ii]].append(to_write[ii])\n",
    "        writer.writerow(to_write)\n",
    "        if done:\n",
    "            break"
   ]
  },
  {
   "cell_type": "markdown",
   "metadata": {
    "deletable": true,
    "editable": true
   },
   "source": [
    "Run the code cell below to visualize how the position of the quadcopter evolved during the simulation."
   ]
  },
  {
   "cell_type": "code",
   "execution_count": 10,
   "metadata": {
    "collapsed": false,
    "deletable": true,
    "editable": true
   },
   "outputs": [
    {
     "data": {
      "image/png": "[encoded data removed]",
      "text/plain": [
       "<matplotlib.figure.Figure at 0x1bd3c893f60>"
      ]
     },
     "metadata": {},
     "output_type": "display_data"
    }
   ],
   "source": [
    "import matplotlib.pyplot as plt\n",
    "%matplotlib inline\n",
    "\n",
    "plt.plot(results['time'], results['x'], label='x')\n",
    "plt.plot(results['time'], results['y'], label='y')\n",
    "plt.plot(results['time'], results['z'], label='z')\n",
    "plt.legend()\n",
    "_ = plt.ylim()"
   ]
  },
  {
   "cell_type": "markdown",
   "metadata": {
    "deletable": true,
    "editable": true
   },
   "source": [
    "The next code cell visualizes the velocity of the quadcopter."
   ]
  },
  {
   "cell_type": "code",
   "execution_count": 11,
   "metadata": {
    "collapsed": false,
    "deletable": true,
    "editable": true
   },
   "outputs": [
    {
     "data": {
      "image/png": "[encoded data removed]",
      "text/plain": [
       "<matplotlib.figure.Figure at 0x1bd3cf3acc0>"
      ]
     },
     "metadata": {},
     "output_type": "display_data"
    }
   ],
   "source": [
    "plt.plot(results['time'], results['x_velocity'], label='x_hat')\n",
    "plt.plot(results['time'], results['y_velocity'], label='y_hat')\n",
    "plt.plot(results['time'], results['z_velocity'], label='z_hat')\n",
    "plt.legend()\n",
    "_ = plt.ylim()"
   ]
  },
  {
   "cell_type": "markdown",
   "metadata": {
    "deletable": true,
    "editable": true
   },
   "source": [
    "Next, you can plot the Euler angles (the rotation of the quadcopter over the $x$-, $y$-, and $z$-axes),"
   ]
  },
  {
   "cell_type": "code",
   "execution_count": 5,
   "metadata": {
    "collapsed": false,
    "deletable": true,
    "editable": true
   },
   "outputs": [
    {
     "data": {
      "image/png": "[encoded data removed]",
      "text/plain": [
       "<matplotlib.figure.Figure at 0x7f4254a29198>"
      ]
     },
     "metadata": {
      "needs_background": "light"
     },
     "output_type": "display_data"
    }
   ],
   "source": [
    "plt.plot(results['time'], results['phi'], label='phi')\n",
    "plt.plot(results['time'], results['theta'], label='theta')\n",
    "plt.plot(results['time'], results['psi'], label='psi')\n",
    "plt.legend()\n",
    "_ = plt.ylim()"
   ]
  },
  {
   "cell_type": "markdown",
   "metadata": {
    "deletable": true,
    "editable": true
   },
   "source": [
    "before plotting the velocities (in radians per second) corresponding to each of the Euler angles."
   ]
  },
  {
   "cell_type": "code",
   "execution_count": 6,
   "metadata": {
    "collapsed": false,
    "deletable": true,
    "editable": true
   },
   "outputs": [
    {
     "data": {
      "image/png": "[encoded data removed]",
      "text/plain": [
       "<matplotlib.figure.Figure at 0x7f42549fc438>"
      ]
     },
     "metadata": {
      "needs_background": "light"
     },
     "output_type": "display_data"
    }
   ],
   "source": [
    "plt.plot(results['time'], results['phi_velocity'], label='phi_velocity')\n",
    "plt.plot(results['time'], results['theta_velocity'], label='theta_velocity')\n",
    "plt.plot(results['time'], results['psi_velocity'], label='psi_velocity')\n",
    "plt.legend()\n",
    "_ = plt.ylim()"
   ]
  },
  {
   "cell_type": "markdown",
   "metadata": {
    "deletable": true,
    "editable": true
   },
   "source": [
    "Finally, you can use the code cell below to print the agent's choice of actions.  "
   ]
  },
  {
   "cell_type": "code",
   "execution_count": 7,
   "metadata": {
    "collapsed": false,
    "deletable": true,
    "editable": true
   },
   "outputs": [
    {
     "data": {
      "image/png": "[encoded data removed]",
      "text/plain": [
       "<matplotlib.figure.Figure at 0x7f42548c4940>"
      ]
     },
     "metadata": {
      "needs_background": "light"
     },
     "output_type": "display_data"
    }
   ],
   "source": [
    "plt.plot(results['time'], results['rotor_speed1'], label='Rotor 1 revolutions / second')\n",
    "plt.plot(results['time'], results['rotor_speed2'], label='Rotor 2 revolutions / second')\n",
    "plt.plot(results['time'], results['rotor_speed3'], label='Rotor 3 revolutions / second')\n",
    "plt.plot(results['time'], results['rotor_speed4'], label='Rotor 4 revolutions / second')\n",
    "plt.legend()\n",
    "_ = plt.ylim()"
   ]
  },
  {
   "cell_type": "markdown",
   "metadata": {
    "deletable": true,
    "editable": true
   },
   "source": [
    "When specifying a task, you will derive the environment state from the simulator.  Run the code cell below to print the values of the following variables at the end of the simulation:\n",
    "- `task.sim.pose` (the position of the quadcopter in ($x,y,z$) dimensions and the Euler angles),\n",
    "- `task.sim.v` (the velocity of the quadcopter in ($x,y,z$) dimensions), and\n",
    "- `task.sim.angular_v` (radians/second for each of the three Euler angles)."
   ]
  },
  {
   "cell_type": "code",
   "execution_count": 8,
   "metadata": {
    "collapsed": false,
    "deletable": true,
    "editable": true
   },
   "outputs": [
    {
     "name": "stdout",
     "output_type": "stream",
     "text": [
      "[-10.90804125   7.33499851  28.52027457   0.1228162    0.14975842   0.        ]\n",
      "[-5.44025601  4.44054803  6.29722737]\n",
      "[-0.05707192  0.0587235   0.        ]\n"
     ]
    }
   ],
   "source": [
    "# the pose, velocity, and angular velocity of the quadcopter at the end of the episode\n",
    "print(task.sim.pose)\n",
    "print(task.sim.v)\n",
    "print(task.sim.angular_v)"
   ]
  },
  {
   "cell_type": "markdown",
   "metadata": {
    "deletable": true,
    "editable": true
   },
   "source": [
    "In the sample task in `task.py`, we use the 6-dimensional pose of the quadcopter to construct the state of the environment at each timestep.  However, when amending the task for your purposes, you are welcome to expand the size of the state vector by including the velocity information.  You can use any combination of the pose, velocity, and angular velocity - feel free to tinker here, and construct the state to suit your task.\n",
    "\n",
    "## The Task\n",
    "\n",
    "A sample task has been provided for you in `task.py`.  Open this file in a new window now. \n",
    "\n",
    "The `__init__()` method is used to initialize several variables that are needed to specify the task.  \n",
    "- The simulator is initialized as an instance of the `PhysicsSim` class (from `physics_sim.py`).  \n",
    "- Inspired by the methodology in the original DDPG paper, we make use of action repeats.  For each timestep of the agent, we step the simulation `action_repeats` timesteps.  If you are not familiar with action repeats, please read the **Results** section in [the DDPG paper](https://arxiv.org/abs/1509.02971).\n",
    "- We set the number of elements in the state vector.  For the sample task, we only work with the 6-dimensional pose information.  To set the size of the state (`state_size`), we must take action repeats into account.  \n",
    "- The environment will always have a 4-dimensional action space, with one entry for each rotor (`action_size=4`). You can set the minimum (`action_low`) and maximum (`action_high`) values of each entry here.\n",
    "- The sample task in this provided file is for the agent to reach a target position.  We specify that target position as a variable.\n",
    "\n",
    "The `reset()` method resets the simulator.  The agent should call this method every time the episode ends.  You can see an example of this in the code cell below.\n",
    "\n",
    "The `step()` method is perhaps the most important.  It accepts the agent's choice of action `rotor_speeds`, which is used to prepare the next state to pass on to the agent.  Then, the reward is computed from `get_reward()`.  The episode is considered done if the time limit has been exceeded, or the quadcopter has travelled outside of the bounds of the simulation.\n",
    "\n",
    "In the next section, you will learn how to test the performance of an agent on this task."
   ]
  },
  {
   "cell_type": "markdown",
   "metadata": {
    "deletable": true,
    "editable": true
   },
   "source": [
    "## The Agent\n",
    "\n",
    "The sample agent given in `agents/policy_search.py` uses a very simplistic linear policy to directly compute the action vector as a dot product of the state vector and a matrix of weights. Then, it randomly perturbs the parameters by adding some Gaussian noise, to produce a different policy. Based on the average reward obtained in each episode (`score`), it keeps track of the best set of parameters found so far, how the score is changing, and accordingly tweaks a scaling factor to widen or tighten the noise.\n",
    "\n",
    "Run the code cell below to see how the agent performs on the sample task."
   ]
  },
  {
   "cell_type": "code",
   "execution_count": null,
   "metadata": {
    "collapsed": false,
    "deletable": true,
    "editable": true
   },
   "outputs": [
    {
     "name": "stdout",
     "output_type": "stream",
     "text": [
      "Episode =  999, score =  -0.608 (best =   0.114), noise_scale = 3.2625"
     ]
    }
   ],
   "source": [
    "import sys\n",
    "import pandas as pd\n",
    "from agents.policy_search import PolicySearch_Agent\n",
    "from task import Task\n",
    "\n",
    "num_episodes = 1000\n",
    "target_pos = np.array([0., 0., 10.])\n",
    "task = Task(target_pos=target_pos)\n",
    "agent = PolicySearch_Agent(task) \n",
    "\n",
    "for i_episode in range(1, num_episodes+1):\n",
    "    state = agent.reset_episode() # start a new episode\n",
    "    while True:\n",
    "        action = agent.act(state) \n",
    "        next_state, reward, done = task.step(action)\n",
    "        agent.step(reward, done)\n",
    "        state = next_state\n",
    "        if done:\n",
    "            print(\"\\rEpisode = {:4d}, score = {:7.3f} (best = {:7.3f}), noise_scale = {}\".format(\n",
    "                i_episode, agent.score, agent.best_score, agent.noise_scale), end=\"\")  # [debug]\n",
    "            break\n",
    "    sys.stdout.flush()"
   ]
  },
  {
   "cell_type": "markdown",
   "metadata": {
    "deletable": true,
    "editable": true
   },
   "source": [
    "This agent should perform very poorly on this task.  And that's where you come in!"
   ]
  },
  {
   "cell_type": "markdown",
   "metadata": {
    "collapsed": true,
    "deletable": true,
    "editable": true
   },
   "source": [
    "## Define the Task, Design the Agent, and Train Your Agent!\n",
    "\n",
    "Amend `task.py` to specify a task of your choosing.  If you're unsure what kind of task to specify, you may like to teach your quadcopter to takeoff, hover in place, land softly, or reach a target pose.  \n",
    "\n",
    "After specifying your task, use the sample agent in `agents/policy_search.py` as a template to define your own agent in `agents/agent.py`.  You can borrow whatever you need from the sample agent, including ideas on how you might modularize your code (using helper methods like `act()`, `learn()`, `reset_episode()`, etc.).\n",
    "\n",
    "Note that it is **highly unlikely** that the first agent and task that you specify will learn well.  You will likely have to tweak various hyperparameters and the reward function for your task until you arrive at reasonably good behavior.\n",
    "\n",
    "As you develop your agent, it's important to keep an eye on how it's performing. Use the code above as inspiration to build in a mechanism to log/save the total rewards obtained in each episode to file.  If the episode rewards are gradually increasing, this is an indication that your agent is learning."
   ]
  },
  {
   "cell_type": "code",
   "execution_count": 120,
   "metadata": {
    "collapsed": false,
    "deletable": true,
    "editable": true
   },
   "outputs": [
    {
     "name": "stdout",
     "output_type": "stream",
     "text": [
      "Episode =    1, reward =  119.15 ,position=  -1.49   -0.86    0.00\n",
      "Episode =    2, reward =  115.99 ,position=  -1.59   -0.80    0.00\n",
      "Episode =    3, reward =  120.13 ,position=  -1.49   -0.85    0.00\n",
      "Episode =    4, reward =  125.00 ,position=  -1.59   -0.79    0.00\n",
      "Episode =    5, reward =  167.22 ,position=  -1.17   -0.55    0.00\n",
      "Episode =    6, reward =  119.26 ,position=  -1.34   -0.81    0.00\n",
      "Episode =    7, reward =   55.81 ,position=  -2.45   -0.94    0.00\n",
      "Episode =    8, reward =   58.47 ,position=  -1.98    1.06    0.00\n",
      "Episode =    9, reward =  149.25 ,position=  -1.60    0.04    0.00\n",
      "Episode =   10, reward =  234.96 ,position=  -0.52    0.00    0.00\n",
      "Episode =   11, reward =  223.48 ,position=  -0.33   -0.30    0.00\n",
      "Episode =   12, reward =  209.82 ,position=  -0.33   -0.44    0.00\n",
      "Episode =   13, reward =  220.31 ,position=  -0.12   -0.44    0.00\n",
      "Episode =   14, reward =  183.17 ,position=  -0.48   -0.52    0.00\n",
      "Episode =   15, reward =  208.61 ,position=   0.23   -0.59    0.00\n",
      "Episode =   16, reward =  197.45 ,position=  -0.16   -0.88    0.00\n",
      "Episode =   17, reward =  218.64 ,position=   0.19   -0.55    0.00\n",
      "Episode =   18, reward =  239.72 ,position=   0.00    0.30    0.00\n",
      "Episode =   19, reward =  218.45 ,position=  -0.46   -0.21    0.00\n",
      "Episode =   20, reward =  222.80 ,position=   0.09   -0.50    0.00\n",
      "Episode =   21, reward =  188.32 ,position=   0.46   -0.56    0.00\n",
      "Episode =   22, reward =  203.78 ,position=   0.60   -0.25    0.00\n",
      "Episode =   23, reward =  225.66 ,position=   0.55   -0.05    0.00\n",
      "Episode =   24, reward =  229.32 ,position=  -0.13   -0.12    0.00\n",
      "Episode =   25, reward =  219.58 ,position=   0.54   -0.03    0.00\n",
      "Episode =   26, reward =  219.08 ,position=   0.51   -0.05    0.00\n",
      "Episode =   27, reward =  167.48 ,position=   1.21   -0.28    0.00\n",
      "Episode =   28, reward =  208.91 ,position=   0.17   -0.36    0.00\n",
      "Episode =   29, reward =  -63.52 ,position=  -1.96   -3.31    0.00\n",
      "Episode =   30, reward = -576.89 ,position=  11.78   -1.67    0.00\n",
      "Episode =   31, reward =  186.46 ,position=   0.91    0.07    0.00\n",
      "Episode =   32, reward =  134.67 ,position=  -1.39    0.16    0.00\n",
      "Episode =   33, reward =   19.26 ,position=  -3.53    0.21    0.00\n",
      "Episode =   34, reward = -260.02 ,position=  -8.05    0.25    0.00\n",
      "Episode =   35, reward = -521.22 ,position= -12.12    0.44    0.00\n",
      "Episode =   36, reward = -925.31 ,position= -18.67    0.60    0.00\n",
      "Episode =   37, reward = -1340.81 ,position= -25.12    1.05    0.00\n",
      "Episode =   38, reward = -2370.75 ,position= -41.35    1.21    0.00\n",
      "Episode =   39, reward = -5054.51 ,position= -81.00   -4.62    0.00\n",
      "Episode =   40, reward = -4909.90 ,position= -79.62   -3.30    0.00\n",
      "Episode =   41, reward = -33186.19 ,position= -75.05   -5.56  103.52\n",
      "Episode =   42, reward = -33669.09 ,position= -71.84   -5.22  105.86\n",
      "Episode =   43, reward = -38656.52 ,position= -20.27   -6.27  132.82\n",
      "Episode =   44, reward = -31101.04 ,position= -83.11    4.03   95.24\n",
      "Episode =   45, reward = -35450.40 ,position= -61.17   10.38  113.01\n",
      "Episode =   46, reward = -33946.44 ,position= -72.49   -6.19  106.55\n",
      "Episode =   47, reward = -6499.21 ,position=-105.97    2.08    0.00\n",
      "Episode =   48, reward =  203.00 ,position=  -0.46    0.01    0.00\n",
      "Episode =   49, reward = -1100.46 ,position=  20.90   -1.03    0.00\n",
      "Episode =   50, reward =  222.16 ,position=  -0.80    0.00    0.00\n",
      "Episode =   51, reward =  168.23 ,position=  -1.32   -0.00    0.00\n",
      "Episode =   52, reward =  163.85 ,position=  -1.39   -0.01    0.00\n",
      "Episode =   53, reward =  162.25 ,position=  -1.41   -0.00    0.00\n",
      "Episode =   54, reward =  178.52 ,position=  -1.45    0.00    0.00\n",
      "Episode =   55, reward =  179.52 ,position=  -1.43    0.00    0.00\n",
      "Episode =   56, reward =  161.08 ,position=  -1.43   -0.00    0.00\n",
      "Episode =   57, reward =  178.99 ,position=  -1.44    0.00    0.00\n",
      "Episode =   58, reward =  160.99 ,position=  -1.43   -0.00    0.00\n",
      "Episode =   59, reward =  160.86 ,position=  -1.43   -0.00    0.00\n",
      "Episode =   60, reward =  179.36 ,position=  -1.43    0.00    0.00\n",
      "Episode =   61, reward =  161.46 ,position=  -1.42   -0.01    0.00\n",
      "Episode =   62, reward =  158.55 ,position=  -1.47   -0.00    0.00\n",
      "Episode =   63, reward =  160.25 ,position=  -1.44   -0.00    0.00\n",
      "Episode =   64, reward =  180.89 ,position=  -1.41    0.00    0.00\n",
      "Episode =   65, reward =  159.90 ,position=  -1.45   -0.00    0.00\n",
      "Episode =   66, reward =  177.83 ,position=  -1.46    0.00    0.00\n",
      "Episode =   67, reward =  161.83 ,position=  -1.42   -0.00    0.00\n",
      "Episode =   68, reward =  160.28 ,position=  -1.44   -0.00    0.00\n",
      "Episode =   69, reward =  161.21 ,position=  -1.43   -0.00    0.00\n",
      "Episode =   70, reward =  160.12 ,position=  -1.44   -0.00    0.00\n",
      "Episode =   71, reward =  161.16 ,position=  -1.43   -0.00    0.00\n",
      "Episode =   72, reward =  161.54 ,position=  -1.42   -0.00    0.00\n",
      "Episode =   73, reward =  162.50 ,position=  -1.41   -0.01    0.00\n",
      "Episode =   74, reward =  160.40 ,position=  -1.44   -0.01    0.00\n",
      "Episode =   75, reward =  161.37 ,position=  -1.42   -0.01    0.00\n",
      "Episode =   76, reward =  162.95 ,position=  -1.40   -0.01    0.00\n",
      "Episode =   77, reward =  163.49 ,position=  -1.39   -0.03    0.00\n",
      "Episode =   78, reward =  165.89 ,position=  -1.35   -0.04    0.00\n",
      "Episode =   79, reward =  169.16 ,position=  -1.25    0.08    0.00\n",
      "Episode =   80, reward =  123.24 ,position=  -1.03    1.31    0.00\n",
      "Episode =   81, reward =  180.31 ,position=  -0.79    0.54    0.00\n",
      "Episode =   82, reward = -777.41 ,position=  -1.76   15.30    0.00\n",
      "Episode =   83, reward = -457.31 ,position=  -0.73  -11.06    0.00\n",
      "Episode =   84, reward = -438.82 ,position=  -0.55  -10.87    0.00\n",
      "Episode =   85, reward = -250.49 ,position=  -0.24   -8.15    0.00\n",
      "Episode =   86, reward = -184.15 ,position=   0.19   -7.33    0.00\n",
      "Episode =   87, reward =  -34.81 ,position=   0.64   -4.43    0.00\n",
      "Episode =   88, reward =   98.52 ,position=   0.82   -1.99    0.00\n",
      "Episode =   89, reward =  182.80 ,position=   0.60    0.52    0.00\n",
      "Episode =   90, reward =   89.66 ,position=   0.24    2.55    0.00\n",
      "Episode =   91, reward = -247.06 ,position=   4.40    3.86    0.00\n",
      "Episode =   92, reward =  123.85 ,position=  -0.37    1.88    0.00\n",
      "Episode =   93, reward =  260.41 ,position=   0.06   -0.07    0.00\n",
      "Episode =   94, reward =  206.93 ,position=   0.83   -0.09    0.00\n",
      "Episode =   95, reward =  210.13 ,position=   0.08   -0.73    0.00\n",
      "Episode =   96, reward =   91.90 ,position=  -2.34    0.21    0.00\n",
      "Episode =   97, reward =  -70.39 ,position=  -4.47    0.95    0.00\n",
      "Episode =   98, reward = -104.06 ,position=  -4.88    1.24    0.00\n",
      "Episode =   99, reward =  -84.45 ,position=  -4.50    1.35    0.00\n",
      "Episode =  100, reward =  -55.09 ,position=  -3.99    1.39    0.00\n",
      "Episode =  101, reward =  -26.80 ,position=  -3.52    1.40    0.00\n",
      "Episode =  102, reward =   -9.17 ,position=  -3.22    1.41    0.00\n",
      "Episode =  103, reward =    3.61 ,position=  -3.02    1.41    0.00\n",
      "Episode =  104, reward =   10.02 ,position=  -2.93    1.40    0.00\n",
      "Episode =  105, reward =    8.82 ,position=  -2.93    1.41    0.00\n",
      "Episode =  106, reward =   -2.85 ,position=  -3.13    1.40    0.00\n",
      "Episode =  107, reward =  -23.86 ,position=  -3.48    1.40    0.00\n",
      "Episode =  108, reward =  -47.15 ,position=  -3.87    1.39    0.00\n",
      "Episode =  109, reward =  -72.55 ,position=  -4.28    1.38    0.00\n",
      "Episode =  110, reward =  -93.94 ,position=  -4.65    1.32    0.00\n",
      "Episode =  111, reward =  -96.38 ,position=  -4.73    1.20    0.00\n",
      "Episode =  112, reward =  -51.12 ,position=  -4.12    0.93    0.00\n",
      "Episode =  113, reward =   73.01 ,position=  -2.51    0.35    0.00\n",
      "Episode =  114, reward =  182.48 ,position=  -0.82   -0.44    0.00\n",
      "Episode =  115, reward =  183.91 ,position=   0.14   -0.94    0.00\n",
      "Episode =  116, reward =  208.22 ,position=   0.37    0.26    0.00\n",
      "Episode =  117, reward =  168.14 ,position=  -0.04   -1.11    0.00\n",
      "Episode =  118, reward =   79.03 ,position=   0.87   -2.24    0.00\n",
      "Episode =  119, reward =  121.03 ,position=   0.04   -2.39    0.00\n",
      "Episode =  120, reward =   62.23 ,position=   0.11    3.37    0.00\n",
      "Episode =  121, reward = -3100.02 ,position=   3.14  -53.41    3.22\n",
      "Episode =  122, reward =  -28.27 ,position=   0.56   -4.35    0.00\n",
      "Episode =  123, reward = -188.73 ,position=   0.23   -7.32    0.00\n",
      "Episode =  124, reward = -247.94 ,position=  -0.18   -8.13    0.00\n",
      "Episode =  125, reward = -602.09 ,position=  -0.57  -13.66    0.00\n",
      "Episode =  126, reward = -705.36 ,position=  -0.93  -14.99    0.00\n",
      "Episode =  127, reward = -1058.20 ,position=  -1.28  -20.31    0.00\n",
      "Episode =  128, reward = -1349.13 ,position=  -1.53  -24.50    0.00\n",
      "Episode =  129, reward = -1453.89 ,position=  -1.73  -26.21    0.00\n",
      "Episode =  130, reward = -1804.68 ,position=  -1.94  -31.62    0.00\n",
      "Episode =  131, reward = -2139.30 ,position=  -2.17  -36.72    0.00\n",
      "Episode =  132, reward = -2408.38 ,position=  -2.35  -40.84    0.00\n",
      "Episode =  133, reward = -1941.50 ,position=  -2.17  -33.55    0.00\n",
      "Episode =  134, reward = -3109.26 ,position=  -2.62  -51.74    0.00\n",
      "Episode =  135, reward = -3866.06 ,position=  -2.88  -63.51    0.00\n",
      "Episode =  136, reward = -2212.94 ,position=  -2.32  -37.63    0.00\n",
      "Episode =  137, reward = -3114.76 ,position=  -2.66  -51.78    0.00\n",
      "Episode =  138, reward = -2478.73 ,position=  -2.41  -41.77    0.00\n",
      "Episode =  139, reward = -2481.32 ,position=  -2.42  -41.80    0.00\n",
      "Episode =  140, reward = -3269.66 ,position=  -2.76  -54.03    0.00\n",
      "Episode =  141, reward = -3698.32 ,position=  -3.01  -62.18    2.31\n",
      "Episode =  142, reward = -2267.72 ,position=  -2.30  -38.63    0.00\n",
      "Episode =  143, reward = -3904.92 ,position=  -2.97  -64.24    0.37\n",
      "Episode =  144, reward = -3870.23 ,position=  -3.01  -63.84    0.71\n",
      "Episode =  145, reward = -2133.67 ,position=  -2.29  -36.52    0.00\n",
      "Episode =  146, reward = -3111.90 ,position=  -2.68  -51.73    0.00\n",
      "Episode =  147, reward = -2615.77 ,position=  -2.50  -44.00    0.00\n",
      "Episode =  148, reward = -2069.94 ,position=  -2.23  -35.56    0.00\n",
      "Episode =  149, reward = -2132.58 ,position=  -2.27  -36.53    0.00\n",
      "Episode =  150, reward = -3793.62 ,position=  -2.91  -62.23    0.00\n",
      "Episode =  151, reward = -2758.14 ,position=  -2.49  -46.16    0.00\n",
      "Episode =  152, reward = -3812.61 ,position=  -2.98  -63.28    1.27\n",
      "Episode =  153, reward = -2007.32 ,position=  -2.21  -34.46    0.00\n",
      "Episode =  154, reward = -3891.70 ,position=  -2.93  -64.16    0.50\n",
      "Episode =  155, reward = -2335.13 ,position=  -2.38  -39.64    0.00\n",
      "Episode =  156, reward = -3889.03 ,position=  -2.93  -64.11    0.51\n",
      "Episode =  157, reward = -3793.75 ,position=  -2.95  -63.12    1.45\n",
      "Episode =  158, reward = -3272.30 ,position=  -2.73  -53.99    0.00\n",
      "Episode =  159, reward = -2541.45 ,position=  -2.44  -42.87    0.00\n",
      "Episode =  160, reward = -2823.92 ,position=  -2.53  -47.28    0.00\n",
      "Episode =  161, reward = -2760.95 ,position=  -2.51  -46.17    0.00\n",
      "Episode =  162, reward = -2893.97 ,position=  -2.64  -48.30    0.00\n",
      "Episode =  163, reward = -3895.27 ,position=  -2.97  -64.15    0.46\n",
      "Episode =  164, reward = -3713.96 ,position=  -2.91  -61.08    0.00\n",
      "Episode =  165, reward = -2682.71 ,position=  -2.56  -44.99    0.00\n",
      "Episode =  166, reward = -2758.87 ,position=  -2.54  -46.12    0.00\n",
      "Episode =  167, reward = -927.36 ,position=  -1.66  -17.74    0.00\n",
      "Episode =  168, reward =  193.83 ,position=  -0.56   -0.50    0.00\n",
      "Episode =  169, reward =  166.08 ,position=  -0.78    0.82    0.00\n",
      "Episode =  170, reward =  136.84 ,position=  -0.99    0.95    0.00\n",
      "Episode =  171, reward =  141.21 ,position=  -1.30    0.66    0.00\n",
      "Episode =  172, reward =  163.47 ,position=  -1.39    0.01    0.00\n",
      "Episode =  173, reward =  159.77 ,position=  -1.45   -0.03    0.00\n",
      "Episode =  174, reward =  159.15 ,position=  -1.46   -0.01    0.00\n",
      "Episode =  175, reward =  160.16 ,position=  -1.44   -0.01    0.00\n",
      "Episode =  176, reward =  159.79 ,position=  -1.45   -0.01    0.00\n",
      "Episode =  177, reward =  157.89 ,position=  -1.48   -0.00    0.00\n",
      "Episode =  178, reward =  160.13 ,position=  -1.44   -0.00    0.00\n",
      "Episode =  179, reward =  158.89 ,position=  -1.46   -0.00    0.00\n",
      "Episode =  180, reward =  177.81 ,position=  -1.46   -0.00    0.00\n",
      "Episode =  181, reward =  177.01 ,position=  -1.47    0.00    0.00\n",
      "Episode =  182, reward =  178.36 ,position=  -1.45    0.00    0.00\n",
      "Episode =  183, reward =  178.62 ,position=  -1.45    0.00    0.00\n",
      "Episode =  184, reward =  158.73 ,position=  -1.46   -0.00    0.00\n",
      "Episode =  185, reward =  158.25 ,position=  -1.47   -0.00    0.00\n",
      "Episode =  186, reward =  178.69 ,position=  -1.44    0.00    0.00\n",
      "Episode =  187, reward =  178.56 ,position=  -1.45   -0.00    0.00\n",
      "Episode =  188, reward =  160.60 ,position=  -1.44   -0.00    0.00\n",
      "Episode =  189, reward =  158.66 ,position=  -1.47   -0.01    0.00\n",
      "Episode =  190, reward =  159.17 ,position=  -1.46   -0.00    0.00\n",
      "Episode =  191, reward =  157.84 ,position=  -1.48   -0.00    0.00\n",
      "Episode =  192, reward =  178.07 ,position=  -1.46   -0.00    0.00\n",
      "Episode =  193, reward =  157.88 ,position=  -1.48   -0.00    0.00\n",
      "Episode =  194, reward =  179.54 ,position=  -1.43    0.00    0.00\n",
      "Episode =  195, reward =  158.26 ,position=  -1.47   -0.00    0.00\n",
      "Episode =  196, reward =  159.91 ,position=  -1.45   -0.00    0.00\n",
      "Episode =  197, reward =  159.91 ,position=  -1.45   -0.00    0.00\n",
      "Episode =  198, reward =  160.91 ,position=  -1.43   -0.00    0.00\n",
      "Episode =  199, reward =  160.42 ,position=  -1.44   -0.00    0.00\n",
      "Episode =  200, reward =  177.94 ,position=  -1.46    0.00    0.00\n",
      "Episode =  201, reward =  177.40 ,position=  -1.47    0.00    0.00\n",
      "Episode =  202, reward =  178.04 ,position=  -1.46    0.00    0.00\n",
      "Episode =  203, reward =  178.83 ,position=  -1.44    0.00    0.00\n",
      "Episode =  204, reward =  160.49 ,position=  -1.44   -0.00    0.00\n",
      "Episode =  205, reward =  179.16 ,position=  -1.43    0.00    0.00\n",
      "Episode =  206, reward =  176.97 ,position=  -1.47    0.00    0.00\n",
      "Episode =  207, reward =  159.31 ,position=  -1.46   -0.00    0.00\n",
      "Episode =  208, reward =  159.77 ,position=  -1.45   -0.00    0.00\n",
      "Episode =  209, reward =  158.53 ,position=  -1.47   -0.00    0.00\n",
      "Episode =  210, reward =  176.73 ,position=  -1.47    0.00    0.00\n",
      "Episode =  211, reward =  178.40 ,position=  -1.45    0.00    0.00\n",
      "Episode =  212, reward =  159.23 ,position=  -1.46   -0.00    0.00\n",
      "Episode =  213, reward =  160.33 ,position=  -1.44   -0.01    0.00\n",
      "Episode =  214, reward =  160.52 ,position=  -1.44   -0.00    0.00\n",
      "Episode =  215, reward =  160.39 ,position=  -1.44   -0.00    0.00\n",
      "Episode =  216, reward =  159.22 ,position=  -1.46   -0.00    0.00\n",
      "Episode =  217, reward =  159.22 ,position=  -1.46   -0.00    0.00\n",
      "Episode =  218, reward =  159.94 ,position=  -1.45   -0.00    0.00\n",
      "Episode =  219, reward =  177.14 ,position=  -1.47    0.00    0.00\n",
      "Episode =  220, reward =  160.24 ,position=  -1.44   -0.00    0.00\n",
      "Episode =  221, reward =  180.03 ,position=  -1.42    0.00    0.00\n",
      "Episode =  222, reward =  158.89 ,position=  -1.46   -0.00    0.00\n",
      "Episode =  223, reward =  178.35 ,position=  -1.45    0.00    0.00\n",
      "Episode =  224, reward =  177.80 ,position=  -1.46    0.00    0.00\n",
      "Episode =  225, reward =  160.34 ,position=  -1.44   -0.00    0.00\n",
      "Episode =  226, reward =  177.16 ,position=  -1.47    0.00    0.00\n",
      "Episode =  227, reward =  177.75 ,position=  -1.46    0.00    0.00\n",
      "Episode =  228, reward =  177.62 ,position=  -1.46    0.00    0.00\n",
      "Episode =  229, reward =  176.75 ,position=  -1.47    0.00    0.00\n",
      "Episode =  230, reward =  158.24 ,position=  -1.47   -0.00    0.00\n",
      "Episode =  231, reward =  159.64 ,position=  -1.45   -0.01    0.00\n",
      "Episode =  232, reward =  159.18 ,position=  -1.46   -0.00    0.00\n",
      "Episode =  233, reward =  178.32 ,position=  -1.45    0.00    0.00\n",
      "Episode =  234, reward =  177.26 ,position=  -1.47    0.00    0.00\n",
      "Episode =  235, reward =  179.67 ,position=  -1.43    0.00    0.00\n",
      "Episode =  236, reward =  158.63 ,position=  -1.47   -0.00    0.00\n",
      "Episode =  237, reward =  179.24 ,position=  -1.44    0.00    0.00\n",
      "Episode =  238, reward =  177.07 ,position=  -1.47    0.00    0.00\n",
      "Episode =  239, reward =  158.64 ,position=  -1.47   -0.00    0.00\n",
      "Episode =  240, reward =  178.00 ,position=  -1.46    0.00    0.00\n",
      "Episode =  241, reward =  158.69 ,position=  -1.47   -0.00    0.00\n",
      "Episode =  242, reward =  160.92 ,position=  -1.43   -0.00    0.00\n",
      "Episode =  243, reward =  178.40 ,position=  -1.45    0.00    0.00\n",
      "Episode =  244, reward =  177.25 ,position=  -1.46    0.00    0.00\n",
      "Episode =  245, reward =  177.32 ,position=  -1.46    0.00    0.00\n",
      "Episode =  246, reward =  176.34 ,position=  -1.48    0.00    0.00\n",
      "Episode =  247, reward =  177.49 ,position=  -1.46    0.00    0.00\n",
      "Episode =  248, reward =  177.69 ,position=  -1.46    0.00    0.00\n",
      "Episode =  249, reward =  176.86 ,position=  -1.47    0.00    0.00\n",
      "Episode =  250, reward =  180.10 ,position=  -1.43    0.00    0.00\n",
      "Episode =  251, reward =  178.35 ,position=  -1.45    0.00    0.00\n",
      "Episode =  252, reward =  157.70 ,position=  -1.48   -0.00    0.00\n",
      "Episode =  253, reward =  160.14 ,position=  -1.44   -0.01    0.00\n",
      "Episode =  254, reward =  178.07 ,position=  -1.45    0.00    0.00\n",
      "Episode =  255, reward =  177.51 ,position=  -1.46    0.00    0.00\n",
      "Episode =  256, reward =  158.20 ,position=  -1.47   -0.00    0.00\n",
      "Episode =  257, reward =  178.32 ,position=  -1.45    0.00    0.00\n",
      "Episode =  258, reward =  180.22 ,position=  -1.42    0.00    0.00\n",
      "Episode =  259, reward =  178.36 ,position=  -1.45    0.00    0.00\n",
      "Episode =  260, reward =  160.10 ,position=  -1.44   -0.00    0.00\n",
      "Episode =  261, reward =  178.58 ,position=  -1.45    0.00    0.00\n",
      "Episode =  262, reward =  158.04 ,position=  -1.48   -0.00    0.00\n",
      "Episode =  263, reward =  157.56 ,position=  -1.48   -0.00    0.00\n",
      "Episode =  264, reward =  177.19 ,position=  -1.47    0.00    0.00\n",
      "Episode =  265, reward =  162.41 ,position=  -1.41   -0.00    0.00\n",
      "Episode =  266, reward =  158.82 ,position=  -1.46   -0.01    0.00\n",
      "Episode =  267, reward =  159.04 ,position=  -1.46   -0.00    0.00\n",
      "Episode =  268, reward =  178.83 ,position=  -1.44    0.00    0.00\n",
      "Episode =  269, reward =  160.82 ,position=  -1.43   -0.00    0.00\n",
      "Episode =  270, reward =  159.66 ,position=  -1.45   -0.01    0.00\n",
      "Episode =  271, reward =  179.05 ,position=  -1.44    0.00    0.00\n",
      "Episode =  272, reward =  160.30 ,position=  -1.44   -0.00    0.00\n",
      "Episode =  273, reward =  159.26 ,position=  -1.46   -0.00    0.00\n",
      "Episode =  274, reward =  179.33 ,position=  -1.43    0.00    0.00\n",
      "Episode =  275, reward =  157.67 ,position=  -1.48   -0.00    0.00\n",
      "Episode =  276, reward =  157.99 ,position=  -1.48   -0.00    0.00\n",
      "Episode =  277, reward =  159.77 ,position=  -1.45   -0.00    0.00\n",
      "Episode =  278, reward =  179.23 ,position=  -1.44    0.00    0.00\n",
      "Episode =  279, reward =  160.05 ,position=  -1.44   -0.01    0.00\n",
      "Episode =  280, reward =  178.78 ,position=  -1.44    0.00    0.00\n",
      "Episode =  281, reward =  176.93 ,position=  -1.47    0.00    0.00\n",
      "Episode =  282, reward =  178.37 ,position=  -1.45    0.00    0.00\n",
      "Episode =  283, reward =  159.93 ,position=  -1.45   -0.00    0.00\n",
      "Episode =  284, reward =  158.97 ,position=  -1.46   -0.00    0.00\n",
      "Episode =  285, reward =  161.46 ,position=  -1.42   -0.00    0.00\n",
      "Episode =  286, reward =  179.36 ,position=  -1.43    0.00    0.00\n",
      "Episode =  287, reward =  158.34 ,position=  -1.47   -0.00    0.00\n",
      "Episode =  288, reward =  160.80 ,position=  -1.43   -0.00    0.00\n",
      "Episode =  289, reward =  178.88 ,position=  -1.44    0.00    0.00\n",
      "Episode =  290, reward =  177.02 ,position=  -1.47    0.00    0.00\n",
      "Episode =  291, reward =  176.81 ,position=  -1.48    0.00    0.00\n",
      "Episode =  292, reward =  160.11 ,position=  -1.44   -0.00    0.00\n",
      "Episode =  293, reward =  178.83 ,position=  -1.44    0.00    0.00\n",
      "Episode =  294, reward =  177.83 ,position=  -1.46    0.00    0.00\n",
      "Episode =  295, reward =  159.27 ,position=  -1.46   -0.00    0.00\n",
      "Episode =  296, reward =  178.01 ,position=  -1.46   -0.00    0.00\n",
      "Episode =  297, reward =  179.37 ,position=  -1.43    0.00    0.00\n",
      "Episode =  298, reward =  177.89 ,position=  -1.46    0.00    0.00\n",
      "Episode =  299, reward =  177.63 ,position=  -1.46    0.00    0.00\n",
      "Episode =  300, reward =  160.67 ,position=  -1.44   -0.00    0.00\n",
      "Episode =  301, reward =  179.01 ,position=  -1.44    0.00    0.00\n",
      "Episode =  302, reward =  159.68 ,position=  -1.45   -0.01    0.00\n",
      "Episode =  303, reward =  159.49 ,position=  -1.45   -0.00    0.00\n",
      "Episode =  304, reward =  159.19 ,position=  -1.46   -0.00    0.00\n",
      "Episode =  305, reward =  157.48 ,position=  -1.48    0.00    0.00\n",
      "Episode =  306, reward =  159.56 ,position=  -1.45   -0.00    0.00\n",
      "Episode =  307, reward =  178.99 ,position=  -1.44    0.00    0.00\n",
      "Episode =  308, reward =  177.99 ,position=  -1.46    0.00    0.00\n",
      "Episode =  309, reward =  179.40 ,position=  -1.43    0.00    0.00\n",
      "Episode =  310, reward =  159.73 ,position=  -1.45   -0.00    0.00\n",
      "Episode =  311, reward =  178.24 ,position=  -1.45    0.00    0.00\n",
      "Episode =  312, reward =  160.33 ,position=  -1.44   -0.00    0.00\n",
      "Episode =  313, reward =  160.47 ,position=  -1.44   -0.00    0.00\n",
      "Episode =  314, reward =  179.46 ,position=  -1.43    0.00    0.00\n",
      "Episode =  315, reward =  179.67 ,position=  -1.42    0.01    0.00\n",
      "Episode =  316, reward =  178.22 ,position=  -1.45    0.00    0.00\n",
      "Episode =  317, reward =  159.58 ,position=  -1.45   -0.00    0.00\n",
      "Episode =  318, reward =  178.28 ,position=  -1.45    0.00    0.00\n",
      "Episode =  319, reward =  179.19 ,position=  -1.44    0.00    0.00\n",
      "Episode =  320, reward =  160.45 ,position=  -1.44   -0.00    0.00\n",
      "Episode =  321, reward =  159.31 ,position=  -1.46   -0.00    0.00\n",
      "Episode =  322, reward =  158.80 ,position=  -1.46   -0.00    0.00\n",
      "Episode =  323, reward =  178.78 ,position=  -1.45    0.00    0.00\n",
      "Episode =  324, reward =  158.84 ,position=  -1.46   -0.00    0.00\n",
      "Episode =  325, reward =  178.05 ,position=  -1.46    0.00    0.00\n",
      "Episode =  326, reward =  158.38 ,position=  -1.47   -0.00    0.00\n",
      "Episode =  327, reward =  159.54 ,position=  -1.45   -0.00    0.00\n",
      "Episode =  328, reward =  158.52 ,position=  -1.47   -0.00    0.00\n",
      "Episode =  329, reward =  159.57 ,position=  -1.45   -0.00    0.00\n",
      "Episode =  330, reward =  176.89 ,position=  -1.47    0.00    0.00\n",
      "Episode =  331, reward =  160.17 ,position=  -1.44    0.00    0.00\n",
      "Episode =  332, reward =  176.65 ,position=  -1.47    0.00    0.00\n",
      "Episode =  333, reward =  177.33 ,position=  -1.47    0.00    0.00\n",
      "Episode =  334, reward =  159.64 ,position=  -1.45   -0.00    0.00\n",
      "Episode =  335, reward =  158.97 ,position=  -1.46   -0.01    0.00\n",
      "Episode =  336, reward =  158.66 ,position=  -1.47   -0.00    0.00\n",
      "Episode =  337, reward =  177.88 ,position=  -1.46    0.00    0.00\n",
      "Episode =  338, reward =  159.62 ,position=  -1.45   -0.00    0.00\n",
      "Episode =  339, reward =  177.77 ,position=  -1.46    0.00    0.00\n",
      "Episode =  340, reward =  160.56 ,position=  -1.44   -0.00    0.00\n",
      "Episode =  341, reward =  176.71 ,position=  -1.47    0.00    0.00\n",
      "Episode =  342, reward =  178.57 ,position=  -1.45    0.00    0.00\n",
      "Episode =  343, reward =  160.32 ,position=  -1.44   -0.00    0.00\n",
      "Episode =  344, reward =  178.26 ,position=  -1.45    0.00    0.00\n",
      "Episode =  345, reward =  159.38 ,position=  -1.45   -0.00    0.00\n",
      "Episode =  346, reward =  177.08 ,position=  -1.47    0.00    0.00\n",
      "Episode =  347, reward =  176.63 ,position=  -1.47    0.00    0.00\n",
      "Episode =  348, reward =  178.23 ,position=  -1.45    0.00    0.00\n",
      "Episode =  349, reward =  177.38 ,position=  -1.47    0.00    0.00\n",
      "Episode =  350, reward =  177.90 ,position=  -1.46    0.00    0.00\n",
      "Episode =  351, reward =  158.12 ,position=  -1.47   -0.00    0.00\n",
      "Episode =  352, reward =  179.06 ,position=  -1.44    0.00    0.00\n",
      "Episode =  353, reward =  177.77 ,position=  -1.45    0.00    0.00\n",
      "Episode =  354, reward =  160.23 ,position=  -1.44   -0.00    0.00\n",
      "Episode =  355, reward =  159.21 ,position=  -1.46   -0.00    0.00\n",
      "Episode =  356, reward =  159.56 ,position=  -1.45   -0.00    0.00\n",
      "Episode =  357, reward =  158.20 ,position=  -1.47   -0.00    0.00\n",
      "Episode =  358, reward =  159.08 ,position=  -1.46   -0.00    0.00\n",
      "Episode =  359, reward =  158.99 ,position=  -1.46   -0.00    0.00\n",
      "Episode =  360, reward =  179.44 ,position=  -1.43    0.01    0.00\n",
      "Episode =  361, reward =  158.67 ,position=  -1.47   -0.00    0.00\n",
      "Episode =  362, reward =  160.72 ,position=  -1.43   -0.00    0.00\n",
      "Episode =  363, reward =  159.10 ,position=  -1.46   -0.00    0.00\n",
      "Episode =  364, reward =  179.20 ,position=  -1.44    0.00    0.00\n",
      "Episode =  365, reward =  179.41 ,position=  -1.43    0.00    0.00\n",
      "Episode =  366, reward =  158.41 ,position=  -1.47   -0.00    0.00\n",
      "Episode =  367, reward =  176.54 ,position=  -1.47    0.00    0.00\n",
      "Episode =  368, reward =  179.84 ,position=  -1.43    0.00    0.00\n",
      "Episode =  369, reward =  159.06 ,position=  -1.46   -0.00    0.00\n",
      "Episode =  370, reward =  178.53 ,position=  -1.45    0.00    0.00\n",
      "Episode =  371, reward =  158.77 ,position=  -1.46   -0.00    0.00\n",
      "Episode =  372, reward =  158.45 ,position=  -1.47   -0.00    0.00\n",
      "Episode =  373, reward =  177.85 ,position=  -1.46    0.00    0.00\n",
      "Episode =  374, reward =  178.21 ,position=  -1.45    0.00    0.00\n",
      "Episode =  375, reward =  159.73 ,position=  -1.45   -0.00    0.00\n",
      "Episode =  376, reward =  157.76 ,position=  -1.48   -0.00    0.00\n",
      "Episode =  377, reward =  179.19 ,position=  -1.44    0.00    0.00\n",
      "Episode =  378, reward =  177.64 ,position=  -1.46    0.00    0.00\n",
      "Episode =  379, reward =  178.40 ,position=  -1.45    0.00    0.00\n",
      "Episode =  380, reward =  177.57 ,position=  -1.46    0.00    0.00\n",
      "Episode =  381, reward =  178.30 ,position=  -1.45    0.00    0.00\n",
      "Episode =  382, reward =  178.40 ,position=  -1.45    0.00    0.00\n",
      "Episode =  383, reward =  178.49 ,position=  -1.44    0.00    0.00\n",
      "Episode =  384, reward =  177.43 ,position=  -1.46    0.00    0.00\n",
      "Episode =  385, reward =  178.34 ,position=  -1.45    0.00    0.00\n",
      "Episode =  386, reward =  180.32 ,position=  -1.42    0.00    0.00\n",
      "Episode =  387, reward =  159.41 ,position=  -1.45   -0.00    0.00\n",
      "Episode =  388, reward =  160.06 ,position=  -1.44    0.00    0.00\n",
      "Episode =  389, reward =  178.67 ,position=  -1.45    0.00    0.00\n",
      "Episode =  390, reward =  178.29 ,position=  -1.45    0.00    0.00\n",
      "Episode =  391, reward =  176.68 ,position=  -1.48    0.00    0.00\n",
      "Episode =  392, reward =  177.60 ,position=  -1.46    0.00    0.00\n",
      "Episode =  393, reward =  159.98 ,position=  -1.45   -0.00    0.00\n",
      "Episode =  394, reward =  161.58 ,position=  -1.42   -0.00    0.00\n",
      "Episode =  395, reward =  177.14 ,position=  -1.46    0.00    0.00\n",
      "Episode =  396, reward =  179.28 ,position=  -1.44    0.00    0.00\n",
      "Episode =  397, reward =  176.34 ,position=  -1.48    0.00    0.00\n",
      "Episode =  398, reward =  177.47 ,position=  -1.46    0.00    0.00\n",
      "Episode =  399, reward =  177.64 ,position=  -1.46    0.00    0.00\n",
      "Episode =  400, reward =  159.05 ,position=  -1.46   -0.00    0.00\n",
      "Episode =  401, reward =  158.47 ,position=  -1.47   -0.00    0.00\n",
      "Episode =  402, reward =  159.82 ,position=  -1.45   -0.00    0.00\n",
      "Episode =  403, reward =  178.71 ,position=  -1.45    0.00    0.00\n",
      "Episode =  404, reward =  178.35 ,position=  -1.45    0.00    0.00\n",
      "Episode =  405, reward =  177.39 ,position=  -1.47    0.00    0.00\n",
      "Episode =  406, reward =  176.87 ,position=  -1.47    0.00    0.00\n",
      "Episode =  407, reward =  176.50 ,position=  -1.47    0.00    0.00\n",
      "Episode =  408, reward =  159.94 ,position=  -1.45   -0.00    0.00\n",
      "Episode =  409, reward =  159.04 ,position=  -1.46   -0.00    0.00\n",
      "Episode =  410, reward =  177.52 ,position=  -1.46    0.00    0.00\n",
      "Episode =  411, reward =  159.96 ,position=  -1.45   -0.00    0.00\n",
      "Episode =  412, reward =  159.28 ,position=  -1.46    0.00    0.00\n",
      "Episode =  413, reward =  177.81 ,position=  -1.45    0.00    0.00\n",
      "Episode =  414, reward =  178.44 ,position=  -1.45    0.00    0.00\n",
      "Episode =  415, reward =  158.51 ,position=  -1.47   -0.00    0.00\n",
      "Episode =  416, reward =  177.05 ,position=  -1.47    0.00    0.00\n",
      "Episode =  417, reward =  178.85 ,position=  -1.44    0.00    0.00\n",
      "Episode =  418, reward =  158.79 ,position=  -1.46   -0.00    0.00\n",
      "Episode =  419, reward =  178.74 ,position=  -1.45    0.00    0.00\n",
      "Episode =  420, reward =  159.48 ,position=  -1.45   -0.00    0.00\n",
      "Episode =  421, reward =  177.50 ,position=  -1.46    0.00    0.00\n",
      "Episode =  422, reward =  159.96 ,position=  -1.45   -0.00    0.00\n",
      "Episode =  423, reward =  177.79 ,position=  -1.45    0.01    0.00\n",
      "Episode =  424, reward =  159.99 ,position=  -1.45   -0.00    0.00\n",
      "Episode =  425, reward =  159.79 ,position=  -1.45    0.00    0.00\n",
      "Episode =  426, reward =  159.48 ,position=  -1.45   -0.00    0.00\n",
      "Episode =  427, reward =  159.48 ,position=  -1.45   -0.00    0.00\n",
      "Episode =  428, reward =  160.75 ,position=  -1.43   -0.00    0.00\n",
      "Episode =  429, reward =  158.77 ,position=  -1.46   -0.00    0.00\n",
      "Episode =  430, reward =  160.19 ,position=  -1.44   -0.00    0.00\n",
      "Episode =  431, reward =  175.82 ,position=  -1.49    0.00    0.00\n",
      "Episode =  432, reward =  178.50 ,position=  -1.45    0.00    0.00\n",
      "Episode =  433, reward =  158.93 ,position=  -1.46   -0.00    0.00\n",
      "Episode =  434, reward =  179.50 ,position=  -1.43    0.00    0.00\n",
      "Episode =  435, reward =  177.19 ,position=  -1.46    0.00    0.00\n",
      "Episode =  436, reward =  177.53 ,position=  -1.46    0.00    0.00\n",
      "Episode =  437, reward =  179.09 ,position=  -1.44    0.00    0.00\n",
      "Episode =  438, reward =  178.49 ,position=  -1.45    0.00    0.00\n",
      "Episode =  439, reward =  161.05 ,position=  -1.43   -0.00    0.00\n",
      "Episode =  440, reward =  177.00 ,position=  -1.46    0.01    0.00\n",
      "Episode =  441, reward =  177.15 ,position=  -1.47    0.00    0.00\n",
      "Episode =  442, reward =  176.78 ,position=  -1.48    0.00    0.00\n",
      "Episode =  443, reward =  177.79 ,position=  -1.46    0.00    0.00\n",
      "Episode =  444, reward =  159.64 ,position=  -1.45   -0.00    0.00\n",
      "Episode =  445, reward =  159.32 ,position=  -1.46   -0.00    0.00\n",
      "Episode =  446, reward =  159.74 ,position=  -1.45   -0.00    0.00\n",
      "Episode =  447, reward =  159.22 ,position=  -1.46   -0.01    0.00\n",
      "Episode =  448, reward =  178.58 ,position=  -1.45    0.00    0.00\n",
      "Episode =  449, reward =  158.97 ,position=  -1.46   -0.00    0.00\n",
      "Episode =  450, reward =  177.57 ,position=  -1.46    0.00    0.00\n",
      "Episode =  451, reward =  179.00 ,position=  -1.44    0.00    0.00\n",
      "Episode =  452, reward =  158.15 ,position=  -1.47   -0.00    0.00\n",
      "Episode =  453, reward =  178.60 ,position=  -1.44    0.00    0.00\n",
      "Episode =  454, reward =  179.32 ,position=  -1.43    0.00    0.00\n",
      "Episode =  455, reward =  177.69 ,position=  -1.46    0.00    0.00\n",
      "Episode =  456, reward =  178.28 ,position=  -1.45    0.01    0.00\n",
      "Episode =  457, reward =  178.79 ,position=  -1.44    0.00    0.00\n",
      "Episode =  458, reward =  177.13 ,position=  -1.46    0.00    0.00\n",
      "Episode =  459, reward =  158.32 ,position=  -1.47   -0.00    0.00\n",
      "Episode =  460, reward =  159.50 ,position=  -1.45   -0.00    0.00\n",
      "Episode =  461, reward =  157.00 ,position=  -1.49   -0.00    0.00\n",
      "Episode =  462, reward =  162.16 ,position=  -1.41   -0.00    0.00\n",
      "Episode =  463, reward =  178.62 ,position=  -1.45    0.00    0.00\n",
      "Episode =  464, reward =  159.51 ,position=  -1.45   -0.01    0.00\n",
      "Episode =  465, reward =  178.00 ,position=  -1.46    0.00    0.00\n",
      "Episode =  466, reward =  164.28 ,position=  -1.48    0.00    0.00\n",
      "Episode =  467, reward =  159.44 ,position=  -1.45   -0.00    0.00\n",
      "Episode =  468, reward =  158.98 ,position=  -1.46   -0.00    0.00\n",
      "Episode =  469, reward =  159.33 ,position=  -1.46    0.00    0.00\n",
      "Episode =  470, reward =  177.83 ,position=  -1.46    0.00    0.00\n",
      "Episode =  471, reward =  157.27 ,position=  -1.49   -0.00    0.00\n",
      "Episode =  472, reward =  177.89 ,position=  -1.46    0.00    0.00\n",
      "Episode =  473, reward =  160.67 ,position=  -1.44   -0.00    0.00\n",
      "Episode =  474, reward =  177.99 ,position=  -1.45    0.00    0.00\n",
      "Episode =  475, reward =  160.03 ,position=  -1.45   -0.00    0.00\n",
      "Episode =  476, reward =  178.72 ,position=  -1.45    0.00    0.00\n",
      "Episode =  477, reward =  178.16 ,position=  -1.45    0.00    0.00\n",
      "Episode =  478, reward =  179.38 ,position=  -1.43    0.00    0.00\n",
      "Episode =  479, reward =  158.25 ,position=  -1.47   -0.00    0.00\n",
      "Episode =  480, reward =  159.14 ,position=  -1.46   -0.00    0.00\n",
      "Episode =  481, reward =  165.00 ,position=  -1.46   -0.00    0.00\n",
      "Episode =  482, reward =  178.64 ,position=  -1.44    0.01    0.00\n",
      "Episode =  483, reward =  158.75 ,position=  -1.46   -0.00    0.00\n",
      "Episode =  484, reward =  178.32 ,position=  -1.45    0.00    0.00\n",
      "Episode =  485, reward =  160.41 ,position=  -1.44   -0.00    0.00\n",
      "Episode =  486, reward =  177.24 ,position=  -1.47    0.00    0.00\n",
      "Episode =  487, reward =  157.67 ,position=  -1.48   -0.01    0.00\n",
      "Episode =  488, reward =  159.01 ,position=  -1.46   -0.00    0.00\n",
      "Episode =  489, reward =  158.88 ,position=  -1.46   -0.00    0.00\n",
      "Episode =  490, reward =  159.66 ,position=  -1.45   -0.01    0.00\n",
      "Episode =  491, reward =  178.80 ,position=  -1.45    0.00    0.00\n",
      "Episode =  492, reward =  158.50 ,position=  -1.47   -0.00    0.00\n",
      "Episode =  493, reward =  159.26 ,position=  -1.46   -0.01    0.00\n",
      "Episode =  494, reward =  177.76 ,position=  -1.46    0.00    0.00\n",
      "Episode =  495, reward =  160.39 ,position=  -1.44   -0.00    0.00\n",
      "Episode =  496, reward =  158.26 ,position=  -1.47   -0.00    0.00\n",
      "Episode =  497, reward =  176.99 ,position=  -1.47    0.00    0.00\n",
      "Episode =  498, reward =  160.59 ,position=  -1.44   -0.00    0.00\n",
      "Episode =  499, reward =  180.71 ,position=  -1.42    0.00    0.00\n",
      "Episode =  500, reward =  178.20 ,position=  -1.45    0.00    0.00\n"
     ]
    }
   ],
   "source": [
    "## TODO: Train your agent here.\n",
    "\n",
    "import numpy as np\n",
    "from agents.agent import DDPG\n",
    "from task2 import Task\n",
    "\n",
    "num_episodes = 500\n",
    "init_pose = np.array([0., 0., 5.,0.,0.,0.])\n",
    "target_pos = np.array([0., 0., 10.])\n",
    "task2 = Task(init_pose=init_pose, target_pos=target_pos)\n",
    "agent = DDPG(task2) \n",
    "rewards = []\n",
    "\n",
    "for i_episode in range(1, num_episodes+1):\n",
    "    state = agent.reset_episode() # start a new episode\n",
    "    while True:\n",
    "        action = agent.act(state)\n",
    "        next_state, reward, done = task2.step(action)\n",
    "#         print(reward)\n",
    "        agent.step(action, reward, next_state, done)\n",
    "        state = next_state\n",
    "\n",
    "        if done:\n",
    "            rewards.append(agent.score)\n",
    "            print(\"\\rEpisode = {:4d}, reward = {:7.2f} ,position={:7.2f} {:7.2f} {:7.2f}\\n\".format(\n",
    "                i_episode, \n",
    "                reward, \n",
    "                task2.sim.pose[:3][0],\n",
    "                task2.sim.pose[:3][1],\n",
    "                task2.sim.pose[:3][2]),\n",
    "                end=\"\")  # [debug]\n",
    "            break\n",
    "    sys.stdout.flush()\n"
   ]
  },
  {
   "cell_type": "markdown",
   "metadata": {
    "collapsed": true,
    "deletable": true,
    "editable": true
   },
   "source": [
    "## Plot the Rewards\n",
    "\n",
    "Once you are satisfied with your performance, plot the episode rewards, either from a single run, or averaged over multiple runs. "
   ]
  },
  {
   "cell_type": "code",
   "execution_count": 121,
   "metadata": {
    "collapsed": false,
    "deletable": true,
    "editable": true
   },
   "outputs": [
    {
     "data": {
      "text/plain": [
       "[<matplotlib.lines.Line2D at 0x1bd90a1bd30>]"
      ]
     },
     "execution_count": 121,
     "metadata": {},
     "output_type": "execute_result"
    },
    {
     "data": {
      "image/png": "[encoded data removed]",
      "text/plain": [
       "<matplotlib.figure.Figure at 0x1bd85d41550>"
      ]
     },
     "metadata": {},
     "output_type": "display_data"
    }
   ],
   "source": [
    "## TODO: Plot the rewards.\n",
    "\n",
    "plt.plot(rewards, label='rewards')"
   ]
  },
  {
   "cell_type": "markdown",
   "metadata": {
    "collapsed": true,
    "deletable": true,
    "editable": true
   },
   "source": [
    "## Reflections\n",
    "\n",
    "**Question 1**: Describe the task that you specified in `task.py`.  How did you design the reward function?\n",
    "\n",
    "**Answer**:\n",
    "The task I specified was to have the quadcopter taking off. In the reward function, the reward is increased if the quadcopter reaches to a small distance away from the target position, and the reward is reduced by adding penalty if the quadcopter moves away from target. More penatly are applied for moving horizontally away from the target. "
   ]
  },
  {
   "cell_type": "markdown",
   "metadata": {
    "deletable": true,
    "editable": true
   },
   "source": [
    "**Question 2**: Discuss your agent briefly, using the following questions as a guide:\n",
    "\n",
    "- What learning algorithm(s) did you try? What worked best for you?\n",
    "- What was your final choice of hyperparameters (such as $\\alpha$, $\\gamma$, $\\epsilon$, etc.)?\n",
    "- What neural network architecture did you use (if any)? Specify layers, sizes, activation functions, etc.\n",
    "\n",
    "**Answer**:\n",
    "Deep Deterministic Policy Gradients or DDPG was used for modeling. DDPG is an algorithm which concurrently learns a Q-function and a policy. It uses off-policy data and the Bellman equation to learn the Q-function, and uses the Q-function to learn the policy.DDPG can only be used for environments with continuous action spaces, which is suitable for this project. Actor-Critic method  was used - A Critic that measures how good the action taken is (value-based) and an Actor that controls how our agent behaves (policy-based). The idea of fixed Q-targets was used which uses a separate network with a fixed parameter for estimating the TD target, and at every Tau step, the parameters are copied from DQN network to update the target network.\n",
    "\n",
    "Two dropout layers with dropout rate as 0.2 were added to both Actor and Critic model. Adam was used as the optimizer and the learning rate was reduced to 0.0001 from the default value of 0.001. \n",
    "\n",
    "I tried a few combinations of the hyperparameters for DDPG model and they don't make too much difference. The combination of theta=0.15, sigma=0.1, gamma=0.99 and tau=0.1 worked best for the model.\n"
   ]
  },
  {
   "cell_type": "markdown",
   "metadata": {
    "deletable": true,
    "editable": true
   },
   "source": [
    "**Question 3**: Using the episode rewards plot, discuss how the agent learned over time.\n",
    "\n",
    "- Was it an easy task to learn or hard?\n",
    "- Was there a gradual learning curve, or an aha moment?\n",
    "- How good was the final performance of the agent? (e.g. mean rewards over the last 10 episodes)\n",
    "\n",
    "**Answer**:\n",
    "This was a hard task to learn. Even if I tried different reward functions, the performance is still not good and the rewards are not increasing along with episodes. The quadcopter could fly up high but it flew beyond my target even if in my reward function I reduce reward when it flies beyond the target. I found that the reward could be positive when the quadcopter moves away from target verNeed to further upate the reward function and the model."
   ]
  },
  {
   "cell_type": "markdown",
   "metadata": {
    "deletable": true,
    "editable": true
   },
   "source": [
    "**Question 4**: Briefly summarize your experience working on this project. You can use the following prompts for ideas.\n",
    "\n",
    "- What was the hardest part of the project? (e.g. getting started, plotting, specifying the task, etc.)\n",
    "- Did you find anything interesting in how the quadcopter or your agent behaved?\n",
    "\n",
    "**Answer**:\n",
    "The hardest part is to design the reward function, which requires changes back and forth. Rewards need to be added to encourage the quadcopter to move up vertically, while penalties also need to be added to discourage the quadcopter to move horizontionally away from the target. I had to adjust the weights applied for rewards and penalties to make the reward function works more efficiently."
   ]
  }
 ],
 "metadata": {
  "anaconda-cloud": {},
  "kernelspec": {
   "display_name": "Python 3",
   "language": "python",
   "name": "python3"
  },
  "language_info": {
   "codemirror_mode": {
    "name": "ipython",
    "version": 3
   },
   "file_extension": ".py",
   "mimetype": "text/x-python",
   "name": "python",
   "nbconvert_exporter": "python",
   "pygments_lexer": "ipython3",
   "version": "3.6.3"
  }
 },
 "nbformat": 4,
 "nbformat_minor": 2
}
